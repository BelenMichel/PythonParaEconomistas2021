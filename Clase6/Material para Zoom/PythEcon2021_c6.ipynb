{
 "cells": [
  {
   "cell_type": "markdown",
   "id": "e0cba9f8",
   "metadata": {},
   "source": [
    "# Clase Nº 6"
   ]
  },
  {
   "cell_type": "markdown",
   "id": "ca6dacef",
   "metadata": {},
   "source": [
    "**Plan de la clase:**  \n",
    "**(1)** Preguntas sobre la clase asincrónica. <br>\n",
    "**(2)** Unir un dataframe con un geodataframe y visualizar atributos en un mapa <br>\n",
    "**(3)** Unir dos geodataframes en base a atributos espaciales <br>"
   ]
  },
  {
   "cell_type": "markdown",
   "id": "f2e6c347",
   "metadata": {},
   "source": [
    "### Preguntas sobre la clase asincrónica"
   ]
  },
  {
   "cell_type": "markdown",
   "id": "a966fd4e",
   "metadata": {},
   "source": [
    "..."
   ]
  },
  {
   "cell_type": "markdown",
   "id": "b6f7641b",
   "metadata": {},
   "source": [
    "### Unir un geodataframe con un dataframe a través de un atributo no espacial"
   ]
  },
  {
   "cell_type": "markdown",
   "id": "b4ce232a",
   "metadata": {},
   "source": [
    "Vamos a ejemplificar cómo unir un `DataFrame` de Pandas con un `GeoDataFrame` de Geopandas.\n",
    "Para eso vamos a utilizar una tabla que contiene la población de las distintas provincias argentinas, y el shapefile de las provincias que ya vimos en la clase asincrónica."
   ]
  },
  {
   "cell_type": "code",
   "execution_count": 1,
   "id": "67fbecba",
   "metadata": {},
   "outputs": [],
   "source": [
    "import numpy as np\n",
    "import pandas as pd\n",
    "import geopandas as gpd"
   ]
  },
  {
   "cell_type": "markdown",
   "id": "def82bf1",
   "metadata": {},
   "source": [
    "Descarguemos la tabla de población por provincia de [esta página](https://www.ign.gob.ar/NuestrasActividades/Geografia/DatosArgentina/Poblacion2) del sitio del IGN.\n",
    "Para eso utilizamos la función `read_html` de `Pandas` que es capaz de extraer tablas de un archivo `html`."
   ]
  },
  {
   "cell_type": "code",
   "execution_count": 21,
   "id": "13c600e6",
   "metadata": {},
   "outputs": [],
   "source": [
    "url_pob = \"https://www.ign.gob.ar/NuestrasActividades/Geografia/DatosArgentina/Poblacion2\"\n",
    "tablas = pd.read_html(url_pob)"
   ]
  },
  {
   "cell_type": "code",
   "execution_count": 33,
   "id": "24142e02",
   "metadata": {},
   "outputs": [],
   "source": [
    "poblacion_df = tablas[2]"
   ]
  },
  {
   "cell_type": "code",
   "execution_count": 34,
   "id": "b6bbcbdb",
   "metadata": {
    "collapsed": true
   },
   "outputs": [
    {
     "data": {
      "text/html": [
       "<div>\n",
       "<style scoped>\n",
       "    .dataframe tbody tr th:only-of-type {\n",
       "        vertical-align: middle;\n",
       "    }\n",
       "\n",
       "    .dataframe tbody tr th {\n",
       "        vertical-align: top;\n",
       "    }\n",
       "\n",
       "    .dataframe thead th {\n",
       "        text-align: right;\n",
       "    }\n",
       "</style>\n",
       "<table border=\"1\" class=\"dataframe\">\n",
       "  <thead>\n",
       "    <tr style=\"text-align: right;\">\n",
       "      <th></th>\n",
       "      <th>Jurisdicción</th>\n",
       "      <th>Año 2010</th>\n",
       "      <th>Año 2015</th>\n",
       "      <th>Año 2020</th>\n",
       "    </tr>\n",
       "  </thead>\n",
       "  <tbody>\n",
       "    <tr>\n",
       "      <th>0</th>\n",
       "      <td>República Argentina</td>\n",
       "      <td>40117096</td>\n",
       "      <td>43131966</td>\n",
       "      <td>45376763</td>\n",
       "    </tr>\n",
       "    <tr>\n",
       "      <th>1</th>\n",
       "      <td>Ciudad Autónoma de Buenos Aires</td>\n",
       "      <td>2890151</td>\n",
       "      <td>3054267</td>\n",
       "      <td>3075646</td>\n",
       "    </tr>\n",
       "    <tr>\n",
       "      <th>2</th>\n",
       "      <td>Buenos Aires</td>\n",
       "      <td>15625084</td>\n",
       "      <td>16659931</td>\n",
       "      <td>17541141</td>\n",
       "    </tr>\n",
       "    <tr>\n",
       "      <th>3</th>\n",
       "      <td>Catamarca</td>\n",
       "      <td>367828</td>\n",
       "      <td>396895</td>\n",
       "      <td>415438</td>\n",
       "    </tr>\n",
       "    <tr>\n",
       "      <th>4</th>\n",
       "      <td>Chaco</td>\n",
       "      <td>1055259</td>\n",
       "      <td>1143201</td>\n",
       "      <td>1204541</td>\n",
       "    </tr>\n",
       "    <tr>\n",
       "      <th>5</th>\n",
       "      <td>Chubut</td>\n",
       "      <td>509108</td>\n",
       "      <td>566922</td>\n",
       "      <td>618994</td>\n",
       "    </tr>\n",
       "    <tr>\n",
       "      <th>6</th>\n",
       "      <td>Córdoba</td>\n",
       "      <td>3308876</td>\n",
       "      <td>3567654</td>\n",
       "      <td>3760450</td>\n",
       "    </tr>\n",
       "    <tr>\n",
       "      <th>7</th>\n",
       "      <td>Corrientes</td>\n",
       "      <td>992595</td>\n",
       "      <td>1070283</td>\n",
       "      <td>1120801</td>\n",
       "    </tr>\n",
       "    <tr>\n",
       "      <th>8</th>\n",
       "      <td>Entre Ríos</td>\n",
       "      <td>1235994</td>\n",
       "      <td>1321415</td>\n",
       "      <td>1385961</td>\n",
       "    </tr>\n",
       "    <tr>\n",
       "      <th>9</th>\n",
       "      <td>Formosa</td>\n",
       "      <td>530162</td>\n",
       "      <td>579250</td>\n",
       "      <td>605193</td>\n",
       "    </tr>\n",
       "    <tr>\n",
       "      <th>10</th>\n",
       "      <td>Jujuy</td>\n",
       "      <td>673307</td>\n",
       "      <td>727780</td>\n",
       "      <td>770881</td>\n",
       "    </tr>\n",
       "    <tr>\n",
       "      <th>11</th>\n",
       "      <td>La Pampa</td>\n",
       "      <td>318951</td>\n",
       "      <td>343056</td>\n",
       "      <td>358428</td>\n",
       "    </tr>\n",
       "    <tr>\n",
       "      <th>12</th>\n",
       "      <td>La Rioja</td>\n",
       "      <td>333642</td>\n",
       "      <td>367728</td>\n",
       "      <td>393531</td>\n",
       "    </tr>\n",
       "    <tr>\n",
       "      <th>13</th>\n",
       "      <td>Mendoza</td>\n",
       "      <td>1738929</td>\n",
       "      <td>1885551</td>\n",
       "      <td>1990338</td>\n",
       "    </tr>\n",
       "    <tr>\n",
       "      <th>14</th>\n",
       "      <td>Misiones</td>\n",
       "      <td>1101593</td>\n",
       "      <td>1189446</td>\n",
       "      <td>1261294</td>\n",
       "    </tr>\n",
       "    <tr>\n",
       "      <th>15</th>\n",
       "      <td>Neuquén</td>\n",
       "      <td>551266</td>\n",
       "      <td>619745</td>\n",
       "      <td>664057</td>\n",
       "    </tr>\n",
       "    <tr>\n",
       "      <th>16</th>\n",
       "      <td>Río Negro</td>\n",
       "      <td>638645</td>\n",
       "      <td>698874</td>\n",
       "      <td>747610</td>\n",
       "    </tr>\n",
       "    <tr>\n",
       "      <th>17</th>\n",
       "      <td>Salta</td>\n",
       "      <td>1214441</td>\n",
       "      <td>1333365</td>\n",
       "      <td>1424397</td>\n",
       "    </tr>\n",
       "    <tr>\n",
       "      <th>18</th>\n",
       "      <td>San Juan</td>\n",
       "      <td>681055</td>\n",
       "      <td>738959</td>\n",
       "      <td>781217</td>\n",
       "    </tr>\n",
       "    <tr>\n",
       "      <th>19</th>\n",
       "      <td>San Luis</td>\n",
       "      <td>432310</td>\n",
       "      <td>476351</td>\n",
       "      <td>508328</td>\n",
       "    </tr>\n",
       "    <tr>\n",
       "      <th>20</th>\n",
       "      <td>Santa Cruz</td>\n",
       "      <td>273964</td>\n",
       "      <td>320469</td>\n",
       "      <td>365698</td>\n",
       "    </tr>\n",
       "    <tr>\n",
       "      <th>21</th>\n",
       "      <td>Santa Fe</td>\n",
       "      <td>3194537</td>\n",
       "      <td>3397532</td>\n",
       "      <td>3536418</td>\n",
       "    </tr>\n",
       "    <tr>\n",
       "      <th>22</th>\n",
       "      <td>Santiago del Estero</td>\n",
       "      <td>874006</td>\n",
       "      <td>928097</td>\n",
       "      <td>978313</td>\n",
       "    </tr>\n",
       "    <tr>\n",
       "      <th>23</th>\n",
       "      <td>Tierra del Fuego, Antártida e Islas del Atlánt...</td>\n",
       "      <td>127205</td>\n",
       "      <td>152317</td>\n",
       "      <td>173432</td>\n",
       "    </tr>\n",
       "    <tr>\n",
       "      <th>24</th>\n",
       "      <td>Tucumán</td>\n",
       "      <td>1448188</td>\n",
       "      <td>1592878</td>\n",
       "      <td>1694656</td>\n",
       "    </tr>\n",
       "  </tbody>\n",
       "</table>\n",
       "</div>"
      ],
      "text/plain": [
       "                                         Jurisdicción  Año 2010  Año 2015  \\\n",
       "0                                 República Argentina  40117096  43131966   \n",
       "1                     Ciudad Autónoma de Buenos Aires   2890151   3054267   \n",
       "2                                        Buenos Aires  15625084  16659931   \n",
       "3                                           Catamarca    367828    396895   \n",
       "4                                               Chaco   1055259   1143201   \n",
       "5                                              Chubut    509108    566922   \n",
       "6                                             Córdoba   3308876   3567654   \n",
       "7                                          Corrientes    992595   1070283   \n",
       "8                                          Entre Ríos   1235994   1321415   \n",
       "9                                             Formosa    530162    579250   \n",
       "10                                              Jujuy    673307    727780   \n",
       "11                                           La Pampa    318951    343056   \n",
       "12                                           La Rioja    333642    367728   \n",
       "13                                            Mendoza   1738929   1885551   \n",
       "14                                           Misiones   1101593   1189446   \n",
       "15                                            Neuquén    551266    619745   \n",
       "16                                          Río Negro    638645    698874   \n",
       "17                                              Salta   1214441   1333365   \n",
       "18                                           San Juan    681055    738959   \n",
       "19                                           San Luis    432310    476351   \n",
       "20                                         Santa Cruz    273964    320469   \n",
       "21                                           Santa Fe   3194537   3397532   \n",
       "22                                Santiago del Estero    874006    928097   \n",
       "23  Tierra del Fuego, Antártida e Islas del Atlánt...    127205    152317   \n",
       "24                                            Tucumán   1448188   1592878   \n",
       "\n",
       "    Año 2020  \n",
       "0   45376763  \n",
       "1    3075646  \n",
       "2   17541141  \n",
       "3     415438  \n",
       "4    1204541  \n",
       "5     618994  \n",
       "6    3760450  \n",
       "7    1120801  \n",
       "8    1385961  \n",
       "9     605193  \n",
       "10    770881  \n",
       "11    358428  \n",
       "12    393531  \n",
       "13   1990338  \n",
       "14   1261294  \n",
       "15    664057  \n",
       "16    747610  \n",
       "17   1424397  \n",
       "18    781217  \n",
       "19    508328  \n",
       "20    365698  \n",
       "21   3536418  \n",
       "22    978313  \n",
       "23    173432  \n",
       "24   1694656  "
      ]
     },
     "execution_count": 34,
     "metadata": {},
     "output_type": "execute_result"
    }
   ],
   "source": [
    "poblacion_df"
   ]
  },
  {
   "cell_type": "markdown",
   "id": "8167b134",
   "metadata": {},
   "source": [
    "Preprocesamos el dataframe de población:"
   ]
  },
  {
   "cell_type": "code",
   "execution_count": 45,
   "id": "70e2a0c9",
   "metadata": {},
   "outputs": [],
   "source": [
    "def convertir_a_int(fila, cols=[\"Año 2010\", \"Año 2015\", \"Año 2020\"]):    \n",
    "\n",
    "    '''\n",
    "    Convertir cols, que contienen strings de números con \".\" como separador de miles, a tipo entero.\n",
    "    '''\n",
    "    \n",
    "    try:\n",
    "        for col in cols:\n",
    "            fila[col] = int(fila[col].replace(\".\",\"\"))\n",
    "    except:\n",
    "        pass\n",
    "        \n",
    "    return fila"
   ]
  },
  {
   "cell_type": "code",
   "execution_count": 46,
   "id": "74e7e0f0",
   "metadata": {},
   "outputs": [],
   "source": [
    "poblacion_df = poblacion_df.apply(convertir_a_int, axis=1)"
   ]
  },
  {
   "cell_type": "code",
   "execution_count": 27,
   "id": "9ef7cf69",
   "metadata": {},
   "outputs": [],
   "source": [
    "provincias_gdf = gpd.read_file(filename=\"../datos/provincia.zip\", bbox=(-75,-50,-55,-20))\n",
    "provincias_gdf = provincias_gdf[[\"nam\", \"geometry\"]]\n",
    "provincias_gdf"
   ]
  },
  {
   "cell_type": "markdown",
   "id": "9f35cc5a",
   "metadata": {},
   "source": [
    "### Ejercicio\n",
    "\n",
    "Unir las bases `provincias_gdf` y `poblacion_df` por el nombre de la provincia. Notar que necesitamos especificar `left_on` y `right_on` porque los nombres de las columnas correspondientes son diferentes (o bien cambiar el nombre de una de las columnas).\n",
    "A continuación, representar un mapa del país coloreando cada provincia en base a su población."
   ]
  },
  {
   "cell_type": "code",
   "execution_count": null,
   "id": "b7eefd89",
   "metadata": {},
   "outputs": [],
   "source": []
  },
  {
   "cell_type": "code",
   "execution_count": null,
   "id": "162f603b",
   "metadata": {},
   "outputs": [],
   "source": []
  },
  {
   "cell_type": "code",
   "execution_count": null,
   "id": "a94e9158",
   "metadata": {},
   "outputs": [],
   "source": []
  },
  {
   "cell_type": "code",
   "execution_count": null,
   "id": "a46d9af8",
   "metadata": {},
   "outputs": [],
   "source": []
  },
  {
   "cell_type": "markdown",
   "id": "3a33b8aa",
   "metadata": {},
   "source": [
    "### Unir geodatraframes por un atributo espacial: `sjoin`"
   ]
  },
  {
   "cell_type": "markdown",
   "id": "d44ce1ba",
   "metadata": {},
   "source": [
    "Geopandas permite unir dos GeoDataFrames en base a relaciones espaciales entre las observaciones de cada uno."
   ]
  },
  {
   "cell_type": "markdown",
   "id": "7b2f345f",
   "metadata": {},
   "source": [
    "Vamos a usar estas relaciones espaciales para poder vincular departamentos con provincias."
   ]
  },
  {
   "cell_type": "code",
   "execution_count": null,
   "id": "56bbfc49",
   "metadata": {},
   "outputs": [],
   "source": [
    "departamentos_gdf = gpd.read_file(\"departamento.zip\")\n",
    "departamentos_gdf = departamentos_gdf[[\"objectid\", \"nam\", \"geometry\"]]\n",
    "departamentos_gdf = departamentos_gdf.rename({\"nam\":\"departamento\"}, axis=1)"
   ]
  },
  {
   "cell_type": "markdown",
   "id": "3ef688d3",
   "metadata": {},
   "source": [
    "Obtenemos los centroides de cada departamento para establecer la relación de pertenencia con la provincia."
   ]
  },
  {
   "cell_type": "code",
   "execution_count": null,
   "id": "dcb6b11c",
   "metadata": {},
   "outputs": [],
   "source": [
    "departamentos_centroid_gdf = departamentos_gdf.copy()\n",
    "departamentos_centroid_gdf[\"geometry\"] = departamentos_gdf.geometry.centroid;"
   ]
  },
  {
   "cell_type": "code",
   "execution_count": null,
   "id": "ad913c81",
   "metadata": {},
   "outputs": [],
   "source": [
    "prov_dep_gdf = departamentos_centroid_gdf.sjoin(provincias_gdf, predicate=\"within\")"
   ]
  },
  {
   "cell_type": "code",
   "execution_count": null,
   "id": "521bd44f",
   "metadata": {},
   "outputs": [],
   "source": [
    "prov_dep_df = prov_dep_gdf[[\"objectid\", \"provincia\"]]"
   ]
  },
  {
   "cell_type": "code",
   "execution_count": null,
   "id": "2931c63e",
   "metadata": {},
   "outputs": [],
   "source": [
    "departamentos_gdf = departamentos_gdf.merge(prov_dep_df, how=\"inner\", on=\"objectid\")"
   ]
  },
  {
   "cell_type": "code",
   "execution_count": null,
   "id": "8e745ec0",
   "metadata": {},
   "outputs": [],
   "source": []
  },
  {
   "cell_type": "markdown",
   "id": "e472a162",
   "metadata": {},
   "source": [
    "Ahora representamos la división departamental de cada provincia en un mapa."
   ]
  },
  {
   "cell_type": "code",
   "execution_count": null,
   "id": "b29c5342",
   "metadata": {},
   "outputs": [],
   "source": [
    "def mostrar_deptos_por_provincia(provincia):\n",
    "    tmp_gdf = departamentos_gdf[departamentos_gdf[\"provincia\"]==provincia]\n",
    "    tmp_gdf.plot(cmap=\"tab10\", figsize=(10,10))"
   ]
  },
  {
   "cell_type": "code",
   "execution_count": null,
   "id": "e67c1c96",
   "metadata": {},
   "outputs": [],
   "source": [
    "import ipywidgets as widgets \n",
    "from ipywidgets import interact"
   ]
  },
  {
   "cell_type": "code",
   "execution_count": null,
   "id": "a4dd9a67",
   "metadata": {},
   "outputs": [],
   "source": [
    "interact(\n",
    "    mostrar_deptos_por_provincia, \n",
    "    provincia=widgets.Dropdown(options=sorted(pd.unique(provincias.nam)))\n",
    ");"
   ]
  }
 ],
 "metadata": {
  "kernelspec": {
   "display_name": "Python 3",
   "language": "python",
   "name": "python3"
  },
  "language_info": {
   "codemirror_mode": {
    "name": "ipython",
    "version": 3
   },
   "file_extension": ".py",
   "mimetype": "text/x-python",
   "name": "python",
   "nbconvert_exporter": "python",
   "pygments_lexer": "ipython3",
   "version": "3.7.11"
  }
 },
 "nbformat": 4,
 "nbformat_minor": 5
}
