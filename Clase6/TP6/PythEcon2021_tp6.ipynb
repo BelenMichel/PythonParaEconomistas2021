{
 "cells": [
  {
   "cell_type": "markdown",
   "id": "514c6d58",
   "metadata": {},
   "source": [
    "## Curso Python para Economistas\n",
    "### Trabajo Práctico Nº 6 (integrador)"
   ]
  },
  {
   "cell_type": "markdown",
   "id": "83f79c40",
   "metadata": {},
   "source": [
    "### Fecha de entrega:\n",
    "Jueves 11/11* a las 18:00 hs\\*\n",
    "\n",
    "\\* *tienen una semana más para resolver este TP*"
   ]
  },
  {
   "cell_type": "markdown",
   "id": "eb682638",
   "metadata": {},
   "source": [
    "### Modalidad de entrega y trabajo\n",
    "- Este TP es **individual**.\n",
    "- Un miembro del grupo debe crear un repositorio **privado** en GitHub, y dar acceso a los 5 profesores.\n",
    "- Cuando hayan hecho ese último commit, copien la URL para clonar su repositorio y péguenla en\n",
    "[este Google Sheet](https://docs.google.com/spreadsheets/d/1FRdH1ccczm5-rPZs57ZsvPdEGTDq8dkYorF3UwZdDHA/edit?usp=sharing), en la hoja del TP6. Al ser un repositorio privado, solo los colaboradores habilitados podrán clonarlo.\n",
    "- Al finalizar el trabajo práctico deben hacer un último commit y push en su repositorio de GitHub con el mensaje `\"Entrega final del TP6\"`. Antes de la fecha y hora de entrega pueden hacer cuantos cambios quieran en el repositorio, pero luego de la hora de corte no deben hacer más cambios. Si un commit con el mensaje anterior se realiza luego de la hora de entrega, se supondrá que la entrega tardía fue intencional y se utilizarán los días de gracia. La última versión en el repositorio es la que será evaluada. Para esto es importante que no completen el Google Sheet hasta que no hayan finalizado el TP, como tampoco hacer pushes posteriores a la entrega."
   ]
  },
  {
   "cell_type": "markdown",
   "id": "a2c9c42c",
   "metadata": {},
   "source": [
    "## Objetivo"
   ]
  },
  {
   "cell_type": "markdown",
   "id": "6c2b2e2e",
   "metadata": {},
   "source": [
    "El objetivo de este trabajo es visualizar los resultados electorales de las PASO en un mapa.\n",
    "\n",
    "Va a incluir los temas de la semana 6 (datos georreferenciados y mapas), pero al ser integrador también necesitarán revisar conceptos de semanas previas, en particular cómo realizar consultas a bases de datos SQLite, cómo operar con dataframe's de Pandas, cómo realizar gráficos con Matplotlib y Seaborn, y trabajar con widgets interactivos."
   ]
  },
  {
   "cell_type": "markdown",
   "id": "d03c496a",
   "metadata": {},
   "source": [
    "## Datos"
   ]
  },
  {
   "cell_type": "markdown",
   "id": "0f5f7358",
   "metadata": {},
   "source": [
    "En este trabajo vamos a utilizar dos conjuntos de datos, llamémoslos `elecciones` y `jurisdicciones`.\n",
    "\n",
    "\n",
    "`elecciones` es una base de datos SQLite que está incluida en la carpeta `clase6/TP6` del repositorio del curso, y contiene los resultados electorales de las PASO. Vamos a detallar su estructura más adelante.\n",
    "\n",
    "`jurisdicciones` son dos archivos georreferenciados que **no** están incluidos en este repositorio: los tienen que bajar ustedes mismos (ver sección correspondiente abajo)."
   ]
  },
  {
   "cell_type": "markdown",
   "id": "820d256a",
   "metadata": {},
   "source": [
    "#### `elecciones`"
   ]
  },
  {
   "cell_type": "markdown",
   "id": "044fff49",
   "metadata": {},
   "source": [
    "Esta base de datos está en el archivo `resultados_paso.sqlite` y está compuesta por distintas tablas:\n",
    "- La tabla principal con los resultados: tiene como columnas de `provincia`, `departamento`, `circuito_electoral` , `mesa_de_votacion` , `partido_politico`, `categoria` (diputados o senadores) y finalmente la cuenta de los votos.\n",
    "- En la tabla anterior, las distintas columnas (por ejemplo `departamento`) no aparecen con el nombre de la entidad que representan sino con un código numérico, que está vinculado al nombre en sí a través de otra tabla de la base de datos. Lo mismo con los partidos políticos, por ejemplo. Entonces, tenemos las tablas `tabla_provincias`, `tabla_departamentos`, `tabla_circ_electoral`, `tabla_partidos`. Las mismas contienen no sólo los nombres completos sino también abreviaturas."
   ]
  },
  {
   "cell_type": "markdown",
   "id": "a98cb612",
   "metadata": {},
   "source": [
    "#### `jurisdicciones`\n",
    "Estos son dos archivos con datos georreferenciados que contienen las coordenadas de las distintas jurisdicciones adonde queremos reportar los resultados. Estas jurisdicciones son los **departamentos**, los cuales deben bajar del sitio del [IGN](https://www.ign.gob.ar/NuestrasActividades/InformacionGeoespacial/CapasSIG)); y los **circuitos electorales**, que deben bajar de [esta página](https://mapa2.electoral.gov.ar/descargas/). Hay distintos formatos disponibles, pueden usar el que prefieran."
   ]
  },
  {
   "cell_type": "markdown",
   "id": "1e41e7ba",
   "metadata": {},
   "source": [
    "## Consignas"
   ]
  },
  {
   "cell_type": "markdown",
   "id": "b8ca943a",
   "metadata": {},
   "source": [
    "0. Examinar la base de datos `resultados_paso.sqlite`: nombres de las tablas, nombres de las columnas en cada tabla. Esto lo pueden realizar utilizando un programa como [SQLiteBrowser](https://sqlitebrowser.org/dl/).\n",
    "    "
   ]
  },
  {
   "cell_type": "code",
   "execution_count": null,
   "id": "b7b6b9d2",
   "metadata": {},
   "outputs": [],
   "source": []
  },
  {
   "cell_type": "markdown",
   "id": "083c757d",
   "metadata": {},
   "source": [
    "\n",
    "\n",
    "1. Utilizando el paquete `sqlite3` de Python, realizar una consulta (_query_) para unir la `tabla_resultados` con `tabla_departamentos` y con `tabla_circ_electoral`, para de esa manera tener en una misma tabla los nombres de los departamentos y circuitos electorales (en lugar de los códigos numéricos). Estos nombres nos van a resultar útiles más adelante para poder vincular estos datos con el dataset georreferenciado. Guardar el resultado de esta query en una variable.\n",
    "\n"
   ]
  },
  {
   "cell_type": "code",
   "execution_count": null,
   "id": "9fa923df",
   "metadata": {},
   "outputs": [],
   "source": []
  },
  {
   "cell_type": "code",
   "execution_count": null,
   "id": "03eda3bc",
   "metadata": {},
   "outputs": [],
   "source": []
  },
  {
   "cell_type": "code",
   "execution_count": null,
   "id": "bfea5429",
   "metadata": {},
   "outputs": [],
   "source": []
  },
  {
   "cell_type": "markdown",
   "id": "8318238f",
   "metadata": {},
   "source": [
    "2. Examinar la estructura del resultado de la _query_. ¿Qué tipo de dato es? Convertir esta estructura en un dataframe de Pandas.\n",
    "\n"
   ]
  },
  {
   "cell_type": "code",
   "execution_count": null,
   "id": "7224a181",
   "metadata": {},
   "outputs": [],
   "source": []
  },
  {
   "cell_type": "code",
   "execution_count": null,
   "id": "52bbcab8",
   "metadata": {},
   "outputs": [],
   "source": []
  },
  {
   "cell_type": "code",
   "execution_count": null,
   "id": "b4ce6c60",
   "metadata": {},
   "outputs": [],
   "source": []
  },
  {
   "cell_type": "markdown",
   "id": "0034835e",
   "metadata": {},
   "source": [
    "3. Construir dos dataframes, `resultados_circuito_df` y `resultados_dpto_df`: en uno tendremos la cantidad de votos para cada partido político y cada categoría (diputados o senadores) por circuito electorial; y el otro será equivalente, pero para cada departamento."
   ]
  },
  {
   "cell_type": "code",
   "execution_count": null,
   "id": "f37082d8",
   "metadata": {},
   "outputs": [],
   "source": []
  },
  {
   "cell_type": "code",
   "execution_count": null,
   "id": "c8551bf4",
   "metadata": {},
   "outputs": [],
   "source": []
  },
  {
   "cell_type": "code",
   "execution_count": null,
   "id": "6b8b0196",
   "metadata": {},
   "outputs": [],
   "source": []
  },
  {
   "cell_type": "markdown",
   "id": "fe12907f",
   "metadata": {},
   "source": [
    "4. En los dataframes de arriba tenemos los resultados para diputados y senadores en filas distintas (son distintas _observaciones_ según la nomenclatura usual). Reformatear el dataframe de manera que contenga dos columnas nuevas, llamadas `diputados` y `senadores`, donde en cada una deben estar los resultados de cada categoría para la jurisdicción correspondiente."
   ]
  },
  {
   "cell_type": "code",
   "execution_count": null,
   "id": "153e96f1",
   "metadata": {},
   "outputs": [],
   "source": []
  },
  {
   "cell_type": "code",
   "execution_count": null,
   "id": "e93cd0e3",
   "metadata": {},
   "outputs": [],
   "source": []
  },
  {
   "cell_type": "code",
   "execution_count": null,
   "id": "ac17b106",
   "metadata": {},
   "outputs": [],
   "source": []
  },
  {
   "cell_type": "markdown",
   "id": "330c12bb",
   "metadata": {},
   "source": [
    "5. Usando Geopandas, cargar los shapefiles de circuitos electorales y departamentos en sendos geodataframes. Unir (`merge`) el primero con `resultados_circuito_df` y el segundo con `resultados_dpto_df`. **VER SI LOS NOMBRES DE LOS DEPARTAMENTOS COINCIDEN EXACTAMENTE EN AMBOS DATASETS.**"
   ]
  },
  {
   "cell_type": "code",
   "execution_count": null,
   "id": "320ddfde",
   "metadata": {},
   "outputs": [],
   "source": []
  },
  {
   "cell_type": "code",
   "execution_count": null,
   "id": "5e4ccf6a",
   "metadata": {},
   "outputs": [],
   "source": []
  },
  {
   "cell_type": "code",
   "execution_count": null,
   "id": "4e1062d9",
   "metadata": {},
   "outputs": [],
   "source": []
  },
  {
   "cell_type": "markdown",
   "id": "541b0b27",
   "metadata": {},
   "source": [
    "6. Representar en un mapa los resultados electorales. _Se evaluará la presentación del mapa_. **DAR DETALLES**"
   ]
  },
  {
   "cell_type": "code",
   "execution_count": null,
   "id": "5e79a090",
   "metadata": {},
   "outputs": [],
   "source": []
  },
  {
   "cell_type": "code",
   "execution_count": null,
   "id": "a527c091",
   "metadata": {},
   "outputs": [],
   "source": []
  },
  {
   "cell_type": "code",
   "execution_count": null,
   "id": "ab6987d0",
   "metadata": {},
   "outputs": [],
   "source": []
  },
  {
   "cell_type": "markdown",
   "id": "f9962de4",
   "metadata": {},
   "source": [
    "7. Pedir algún gráfico representando alguna estadística, por ejemplo: Crear dos widgets de selección, uno que permita elegir un departamento; y el otro, la categoría electoral (diputados o senadores). Usando estos parámetros, mostrar de manera reactiva un gráfico de barras (o de torta) con la proporción de votos recibidos por cada partido para el departamento y categoría elegidos.  _Se evaluará la presentación del gráfico_."
   ]
  },
  {
   "cell_type": "code",
   "execution_count": null,
   "id": "a6e3515d",
   "metadata": {},
   "outputs": [],
   "source": []
  },
  {
   "cell_type": "code",
   "execution_count": null,
   "id": "36a0159a",
   "metadata": {},
   "outputs": [],
   "source": []
  },
  {
   "cell_type": "code",
   "execution_count": null,
   "id": "da8edf3f",
   "metadata": {},
   "outputs": [],
   "source": []
  }
 ],
 "metadata": {
  "kernelspec": {
   "display_name": "Python 3",
   "language": "python",
   "name": "python3"
  },
  "language_info": {
   "codemirror_mode": {
    "name": "ipython",
    "version": 3
   },
   "file_extension": ".py",
   "mimetype": "text/x-python",
   "name": "python",
   "nbconvert_exporter": "python",
   "pygments_lexer": "ipython3",
   "version": "3.7.11"
  }
 },
 "nbformat": 4,
 "nbformat_minor": 5
}
