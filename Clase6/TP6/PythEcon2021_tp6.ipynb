{
 "cells": [
  {
   "cell_type": "markdown",
   "id": "514c6d58",
   "metadata": {},
   "source": [
    "## Curso Python para Economistas\n",
    "### Trabajo Práctico Nº 6 (integrador)"
   ]
  },
  {
   "cell_type": "markdown",
   "id": "83f79c40",
   "metadata": {},
   "source": [
    "### Fecha de entrega:\n",
    "Jueves 11/11* a las 18:00 hs\\*\n",
    "\n",
    "\\* *tienen una semana más para resolver este TP*"
   ]
  },
  {
   "cell_type": "markdown",
   "id": "eb682638",
   "metadata": {},
   "source": [
    "### Modalidad de entrega y trabajo\n",
    "- Este TP es **individual**.\n",
    "- Un repositorio **privado** debe ser creado en GitHub para el TP, y dar acceso a los 5 profesores.\n",
    "- Cuando hayan hecho ese último commit, copien la URL para clonar su repositorio y péguenla en\n",
    "[este Google Sheet](https://docs.google.com/spreadsheets/d/1FRdH1ccczm5-rPZs57ZsvPdEGTDq8dkYorF3UwZdDHA/edit?usp=sharing), en la hoja del TP6. Al ser un repositorio privado, solo los colaboradores habilitados podrán clonarlo.\n",
    "- Al finalizar el trabajo práctico deben hacer un último commit y push en su repositorio de GitHub con el mensaje `\"Entrega final del TP6\"`. Antes de la fecha y hora de entrega pueden hacer cuantos cambios quieran en el repositorio, pero luego de la hora de corte no deben hacer más cambios. Si un commit con el mensaje anterior se realiza luego de la hora de entrega, se supondrá que la entrega tardía fue intencional y se utilizarán los días de gracia. La última versión en el repositorio es la que será evaluada. Para esto es importante que no completen el Google Sheet hasta que no hayan finalizado el TP, como tampoco hacer pushes posteriores a la entrega.\n",
    "- El estilo tendrá un peso en la nota de este trabajo. Pueden utilizar esta [guía de estilo](https://recursospython.com/pep8es.pdf) como referencia. No es "
   ]
  },
  {
   "cell_type": "markdown",
   "id": "a2c9c42c",
   "metadata": {},
   "source": [
    "## Objetivo"
   ]
  },
  {
   "cell_type": "markdown",
   "id": "6c2b2e2e",
   "metadata": {},
   "source": [
    "El objetivo de este trabajo es visualizar en un mapa los resultados electorales de las elecciones primarias, abiertas, simultáneas y obligatorias (PASO) que tuvieron lugar el pasado 12 de septiembre. Para evitar trabajar con volúmenes de datos grandes, vamos a enfocarnos en la provincia de Santa Fe.\n",
    "\n",
    "Va a incluir los temas de la semana 6 (datos georreferenciados y mapas), pero al ser integrador también necesitarán revisar conceptos de semanas previas, en particular cómo realizar consultas a bases de datos SQLite, cómo operar con dataframe's de Pandas, cómo realizar gráficos con Matplotlib y Seaborn, y trabajar con widgets interactivos."
   ]
  },
  {
   "cell_type": "markdown",
   "id": "d03c496a",
   "metadata": {},
   "source": [
    "## Datos"
   ]
  },
  {
   "cell_type": "markdown",
   "id": "0f5f7358",
   "metadata": {},
   "source": [
    "En este trabajo vamos a utilizar dos conjuntos de datos, llamémoslos `elecciones` y `jurisdicciones`.\n",
    "\n",
    "\n",
    "`elecciones` es una base de datos SQLite que está incluida en la carpeta `clase6/TP6` del repositorio del curso, y contiene los resultados electorales de las PASO. Vamos a detallar su estructura más adelante.\n",
    "\n",
    "`jurisdicciones` son dos archivos georreferenciados que **no** están incluidos en este repositorio: los tienen que bajar ustedes mismos (ver sección correspondiente abajo)."
   ]
  },
  {
   "cell_type": "markdown",
   "id": "820d256a",
   "metadata": {},
   "source": [
    "#### `elecciones`"
   ]
  },
  {
   "cell_type": "markdown",
   "id": "044fff49",
   "metadata": {},
   "source": [
    "Esta base de datos está en el archivo `resultados_paso.sqlite` y está compuesta por distintas tablas.\n",
    "- La tabla principal con las cuentas de los votos por mesa para cada lista y cargo, llamada `resultados`: tiene como columnas de `mesa_numero`, `seccion_codigo`, `circuito_codigo` , `lista_codigo`, `cargo_codigo` (diputados o senadores) y finalmente la cuenta de los votos, `cantidad`. Cada partido político puede tener varias listas, pero el partido político **no** aparece explícitamente en esta tabla (se puede, sin embargo, deducir a partir de la lista). El sufijo `_codigo` se debe a que los valores no son el nombre de la entidad que representan, sino códigos numéricos (se hace así por razones de eficiencia en el almacenamiento y en la consulta).\n",
    "\n",
    "- Los códigos están vinculado al nombre en sí a través de otra tabla de la base de datos. El nombre de la tabla indica Lo mismo con los partidos políticos, por ejemplo. Entonces, tenemos las tablas `listas`, `secciones`, `circuitos`, `partidos` y `cargos`.\n",
    "\n",
    "También pueden consultar la estructura de todas las tablas en el archivo `ESTRUCTURA DE TABLAS.doc` en este repositorio.\n",
    "\n",
    "Es recomendable examinar la base de datos `resultados_paso.sqlite`: mirar, en particular, los nombres de las tablas, y los nombres de las columnas en cada tabla. Esto lo pueden realizar utilizando un programa como [SQLiteBrowser](https://sqlitebrowser.org/dl/)."
   ]
  },
  {
   "cell_type": "markdown",
   "id": "a98cb612",
   "metadata": {},
   "source": [
    "#### `jurisdicciones`\n",
    "Estos son dos archivos con datos georreferenciados que contienen las coordenadas de las distintas jurisdicciones adonde queremos reportar los resultados. Estas jurisdicciones son \n",
    "\n",
    "- los **departamentos**, llamados \"secciones\" en las tablas anteriores. Este shapefile fue utilizado ya en la clase sincrónica 6, y había sido bajado del [sitio del IGN](https://www.ign.gob.ar/NuestrasActividades/InformacionGeoespacial/CapasSIG), <br>\n",
    "- los **circuitos electorales**, que deben bajar de [esta página](https://mapa2.electoral.gov.ar/descargas/). Hay distintos formatos disponibles, pueden usar el que prefieran."
   ]
  },
  {
   "cell_type": "markdown",
   "id": "1e41e7ba",
   "metadata": {},
   "source": [
    "## Consignas"
   ]
  },
  {
   "cell_type": "markdown",
   "id": "083c757d",
   "metadata": {},
   "source": [
    "1. Utilizando el paquete `sqlite3` de Python, realizar una consulta (_query_) cuyo resultado sea la unión de la tabla de `resultados` con la tabla `listas` por las columnas correspondientes; para de esa manera tener en una misma tabla la correspondencia lista/partido político. Guardar el resultado de esta _query_ en una variable. Examinar la estructura del resultado. ¿Qué tipo de dato es? Convertir esta estructura en un dataframe de Pandas.\n",
    "\n",
    "\n",
    "\n"
   ]
  },
  {
   "cell_type": "code",
   "execution_count": null,
   "id": "9fa923df",
   "metadata": {},
   "outputs": [],
   "source": []
  },
  {
   "cell_type": "code",
   "execution_count": null,
   "id": "03eda3bc",
   "metadata": {},
   "outputs": [],
   "source": []
  },
  {
   "cell_type": "code",
   "execution_count": null,
   "id": "bfea5429",
   "metadata": {},
   "outputs": [],
   "source": []
  },
  {
   "cell_type": "markdown",
   "id": "8835a6ff",
   "metadata": {},
   "source": [
    "2. En el dataframe de arriba tenemos los resultados para diputados y senadores en filas distintas (son distintas _observaciones_ según la nomenclatura usual). Reformatear el dataframe de manera que contenga dos columnas nuevas, llamadas `diputados` y `senadores`, donde en cada una deben estar los resultados de cada categoría para cada mesa."
   ]
  },
  {
   "cell_type": "code",
   "execution_count": null,
   "id": "57ec5ddd",
   "metadata": {},
   "outputs": [],
   "source": []
  },
  {
   "cell_type": "code",
   "execution_count": null,
   "id": "828b2a41",
   "metadata": {},
   "outputs": [],
   "source": []
  },
  {
   "cell_type": "code",
   "execution_count": null,
   "id": "4b6fd224",
   "metadata": {},
   "outputs": [],
   "source": []
  },
  {
   "cell_type": "markdown",
   "id": "0034835e",
   "metadata": {},
   "source": [
    "3. Construir dos dataframes, `partidos_circ_df` y `partidos_dpto_df`: en uno tendremos la cantidad de votos para cada partido político por circuito electorial; y el otro será equivalente, pero para cada departamento. Realizar lo mismo, pero para las listas en lugar de los partidos políticos, en dos dataframes llamados `listas_circ_df` y `listas_dpto_df`."
   ]
  },
  {
   "cell_type": "markdown",
   "id": "fe12907f",
   "metadata": {},
   "source": []
  },
  {
   "cell_type": "code",
   "execution_count": null,
   "id": "153e96f1",
   "metadata": {},
   "outputs": [],
   "source": []
  },
  {
   "cell_type": "code",
   "execution_count": null,
   "id": "e93cd0e3",
   "metadata": {},
   "outputs": [],
   "source": []
  },
  {
   "cell_type": "code",
   "execution_count": null,
   "id": "ac17b106",
   "metadata": {},
   "outputs": [],
   "source": []
  },
  {
   "cell_type": "markdown",
   "id": "330c12bb",
   "metadata": {},
   "source": [
    "4. Usando Geopandas, cargar los shapefiles de circuitos electorales y departamentos en sendos geodataframes. Unir (`merge`) el primero con `partidos_circ_df` y `listas_circ_df`; y el segundo con `partidos_dpto_df` y `listas_dpto_df`. Los resultados deberían ser cuatro geodataframes (pueden reemplazar el sufijo `df` por `gdf` en el nombre).\n",
    "Para hacer la unión, deben decidir qué columnas utilizar como criterio de unión. Deben examinar los valores de las mismas y prestar particular atención a si es necesario realizar alguna transformación previa en alguna tabla."
   ]
  },
  {
   "cell_type": "code",
   "execution_count": null,
   "id": "320ddfde",
   "metadata": {},
   "outputs": [],
   "source": []
  },
  {
   "cell_type": "code",
   "execution_count": null,
   "id": "5e4ccf6a",
   "metadata": {},
   "outputs": [],
   "source": []
  },
  {
   "cell_type": "code",
   "execution_count": null,
   "id": "4e1062d9",
   "metadata": {},
   "outputs": [],
   "source": []
  },
  {
   "cell_type": "markdown",
   "id": "541b0b27",
   "metadata": {},
   "source": [
    "5. Crear un mapa interactivo donde se puedan visualizar los resultados electorales. Se utilizarán tres widgets, que inducirán el siguiente comportamiento:\n",
    "- Debe haber un widget que permita elegir la jurisdicción a mostrar: esta jurisdicción puede ser, o bien toda la provincia, o bien un departamento de la provincia (es decir que, si N es el número de departamentos, el widget debe mostrar N+1 opciones). Si el usuario elige toda la provincia, se debe mostrar un mapa de la misma dividido en departamentos. Si se elige un departamento, se debe mostrar un mapa del departamento elegido, dividido en circuitos electorales. \n",
    "- Otro widget debe permitir elegir el partido. Nuevamente debe haber una opción para \"todos\". Si se elige \"todos\", al posar el cursor sobre una jurisdicción, se debe mostrar el número de votos de cada partido (sin discriminar por listas). Si se elige un partido, se deben mostrar los resultados para las distintas listas que componen ese partido.\n",
    "- Otro widget determina si se muestran los resultados para senadores o para diputados."
   ]
  },
  {
   "cell_type": "code",
   "execution_count": null,
   "id": "5e79a090",
   "metadata": {},
   "outputs": [],
   "source": []
  },
  {
   "cell_type": "code",
   "execution_count": null,
   "id": "8051af81",
   "metadata": {},
   "outputs": [],
   "source": []
  },
  {
   "cell_type": "code",
   "execution_count": null,
   "id": "a527c091",
   "metadata": {},
   "outputs": [],
   "source": []
  },
  {
   "cell_type": "code",
   "execution_count": null,
   "id": "ab6987d0",
   "metadata": {},
   "outputs": [],
   "source": []
  },
  {
   "cell_type": "markdown",
   "id": "f9962de4",
   "metadata": {},
   "source": [
    "6. Crear dos widgets de selección, uno que permita elegir un departamento; y el otro, el cargo electoral (diputados o senadores). Usando estos parámetros, mostrar de manera reactiva un gráfico de barras (o de torta) con la proporción de votos recibidos por cada partido para el departamento y cargo elegidos.  _Se evaluará la presentación del gráfico_."
   ]
  },
  {
   "cell_type": "code",
   "execution_count": null,
   "id": "0336a3e0",
   "metadata": {},
   "outputs": [],
   "source": []
  },
  {
   "cell_type": "code",
   "execution_count": null,
   "id": "a6e3515d",
   "metadata": {},
   "outputs": [],
   "source": []
  },
  {
   "cell_type": "code",
   "execution_count": null,
   "id": "da8edf3f",
   "metadata": {},
   "outputs": [],
   "source": []
  }
 ],
 "metadata": {
  "kernelspec": {
   "display_name": "Python 3",
   "language": "python",
   "name": "python3"
  },
  "language_info": {
   "codemirror_mode": {
    "name": "ipython",
    "version": 3
   },
   "file_extension": ".py",
   "mimetype": "text/x-python",
   "name": "python",
   "nbconvert_exporter": "python",
   "pygments_lexer": "ipython3",
   "version": "3.7.11"
  }
 },
 "nbformat": 4,
 "nbformat_minor": 5
}
