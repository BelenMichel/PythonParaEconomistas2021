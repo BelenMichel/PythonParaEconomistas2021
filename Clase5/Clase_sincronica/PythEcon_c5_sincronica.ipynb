{
 "cells": [
  {
   "cell_type": "markdown",
   "metadata": {},
   "source": [
    "# Curso de Python para Economistas\n",
    "## Bienvenidos a la clase 5\n",
    "\n",
    "### Anuncios y temario para hoy\n",
    "\n",
    "- Pull de GitHub\n",
    "- Cuestionario dificultad tarea\n",
    "- Respuestas del cuestionario de los videos\n",
    "- Dudas de la teoría\n",
    "- Ejercicio práctico: Analisis de sentimiento de tweets de Joe Biden pre y post elecciones"
   ]
  },
  {
   "cell_type": "markdown",
   "metadata": {},
   "source": [
    "### Cuestionario dificultad Tarea\n",
    "https://forms.gle/yCLHV93TFNLd9Ug86"
   ]
  },
  {
   "cell_type": "markdown",
   "metadata": {},
   "source": [
    "### Respuestas a las preguntas de los videos:\n",
    "https://docs.google.com/forms/d/e/1FAIpQLSfb7zlEHh3gllD3iUUWwPCMwyQPd0Z04F3XpArSKQzPkYvGHA/viewform?usp=pp_url&entry.1318485631=Respuesta+Satisfactoria+(Successful+responses)&entry.330305262=Una+celda+de+una+tabla&entry.871102831=Tabula&entry.871102831=PyPDF2&entry.871102831=Minecart&entry.2076477619=La+puedo+trabajar+desde+python+con+el+paquete+psycopg2"
   ]
  },
  {
   "cell_type": "markdown",
   "metadata": {},
   "source": [
    "### Analisis de sentimiento de tweets de Joe Biden pre y post elecciones"
   ]
  },
  {
   "cell_type": "code",
   "execution_count": 3,
   "metadata": {},
   "outputs": [
    {
     "name": "stdout",
     "output_type": "stream",
     "text": [
      "Requirement already satisfied: wordcloud in /Users/belenmichel/opt/anaconda3/lib/python3.7/site-packages (1.8.1)\n",
      "Requirement already satisfied: matplotlib in /Users/belenmichel/opt/anaconda3/lib/python3.7/site-packages (from wordcloud) (3.1.3)\n",
      "Requirement already satisfied: pillow in /Users/belenmichel/opt/anaconda3/lib/python3.7/site-packages (from wordcloud) (7.0.0)\n",
      "Requirement already satisfied: numpy>=1.6.1 in /Users/belenmichel/opt/anaconda3/lib/python3.7/site-packages (from wordcloud) (1.18.1)\n",
      "Requirement already satisfied: cycler>=0.10 in /Users/belenmichel/opt/anaconda3/lib/python3.7/site-packages (from matplotlib->wordcloud) (0.10.0)\n",
      "Requirement already satisfied: kiwisolver>=1.0.1 in /Users/belenmichel/opt/anaconda3/lib/python3.7/site-packages (from matplotlib->wordcloud) (1.1.0)\n",
      "Requirement already satisfied: pyparsing!=2.0.4,!=2.1.2,!=2.1.6,>=2.0.1 in /Users/belenmichel/opt/anaconda3/lib/python3.7/site-packages (from matplotlib->wordcloud) (2.4.6)\n",
      "Requirement already satisfied: python-dateutil>=2.1 in /Users/belenmichel/opt/anaconda3/lib/python3.7/site-packages (from matplotlib->wordcloud) (2.8.1)\n",
      "Requirement already satisfied: six in /Users/belenmichel/opt/anaconda3/lib/python3.7/site-packages (from cycler>=0.10->matplotlib->wordcloud) (1.14.0)\n",
      "Requirement already satisfied: setuptools in /Users/belenmichel/opt/anaconda3/lib/python3.7/site-packages (from kiwisolver>=1.0.1->matplotlib->wordcloud) (46.0.0.post20200309)\n",
      "Requirement already satisfied: Pillow in /Users/belenmichel/opt/anaconda3/lib/python3.7/site-packages (7.0.0)\n"
     ]
    },
    {
     "name": "stderr",
     "output_type": "stream",
     "text": [
      "[nltk_data] Downloading package stopwords to\n",
      "[nltk_data]     /Users/belenmichel/nltk_data...\n",
      "[nltk_data]   Package stopwords is already up-to-date!\n"
     ]
    }
   ],
   "source": [
    "#importamos los paquetes a utilizar\n",
    "import os\n",
    "import re\n",
    "import string\n",
    "import pandas as pd\n",
    "import numpy as np\n",
    "import tweepy\n",
    "\n",
    "import sys\n",
    "!{sys.executable} -m pip install wordcloud\n",
    "from wordcloud import WordCloud\n",
    "!{sys.executable} -m pip install Pillow\n",
    "from PIL import Image\n",
    "import matplotlib.pyplot as plt\n",
    "\n",
    "\n",
    "from textblob import TextBlob\n",
    "from datetime import datetime\n",
    "#Si alguien quiere trabajar con alguna cuenta en español podrían instalar \n",
    "#sentiment_analysis_spanish y utilizarlo en reemplado de TextBlob:\n",
    "#!{sys.executable} -m pip install sentiment_analysis_spanish\n",
    "#from sentiment_analysis_spanish import sentiment_analysis\n",
    "\n",
    "import nltk\n",
    "nltk.download('stopwords')\n",
    "# Si trabajan en español pueden crearse una lista de stopwords con las de este link:\n",
    "# https://github.com/xiamx/node-nltk-stopwords/blob/master/data/stopwords/spanish\n",
    "# También usaremos string.punctuation. Si trabajan en español podrian agregarle  \n",
    "# ¿ y ¡ . En ingles incluye lo siguiente: !\"#$%&'()*+, -./:;<=>?@[\\]^_`{|}~\n",
    "from nltk.corpus import stopwords\n",
    "from nltk.tokenize import word_tokenize\n",
    "\n"
   ]
  },
  {
   "cell_type": "markdown",
   "metadata": {},
   "source": [
    "Para generar las claves vayan a: \n",
    "https://developer.twitter.com/en/portal/dashboard\n",
    "\n",
    "- Luego a Projects & Apps\n",
    "- Luego Overview\n",
    "- Luego + Create App\n",
    "\n",
    "Crear con algun editor de texto (ej. Sublime) un archivo llamado `twitter_keys.txt` dentro de la carpeta `clase5` y guardar las 4 claves, una por línea, en el siguiente orden:\n",
    "- API key\n",
    "- API key secret\n",
    "- Access token\n",
    "- Access token secret"
   ]
  },
  {
   "cell_type": "code",
   "execution_count": 4,
   "metadata": {},
   "outputs": [],
   "source": [
    "#Creamos variables que contienen nuestas claves de autenticación con la API\n",
    "with open(\"twitter_keys.txt\") as tw_k: \n",
    "    consumer_key = tw_k.readline().strip()\n",
    "    consumer_secret = tw_k.readline().strip()\n",
    "    access_key = tw_k.readline().strip()\n",
    "    access_secret = tw_k.readline().strip()"
   ]
  },
  {
   "cell_type": "code",
   "execution_count": 5,
   "metadata": {},
   "outputs": [],
   "source": [
    "#Le pasamos nuestras credenciales de twitter a tweepy\n",
    "auth = tweepy.OAuthHandler(consumer_key, consumer_secret)\n",
    "auth.set_access_token(access_key, access_secret)\n",
    "api = tweepy.API(auth)"
   ]
  },
  {
   "cell_type": "markdown",
   "metadata": {},
   "source": [
    "En este link pueden explorar detalles del metodo user_timeline: https://docs.tweepy.org/en/stable/api.html?highlight=user_timeline#tweepy.API.user_timeline"
   ]
  },
  {
   "cell_type": "code",
   "execution_count": 6,
   "metadata": {},
   "outputs": [],
   "source": [
    "def get_all_tweets(screen_name, start_date):\n",
    "    '''\n",
    "    Esta funcion recibe el nombre de la persona de quien queremos extraer los \n",
    "    tweets y devuelve una lista con todos los tweets y sus datos\n",
    "    Input: \n",
    "      screen_name (str): el nombre de la persona en twitter\n",
    "    Output:\n",
    "      all_tweets (lista): lista con todos los tweets extraidos\n",
    "    '''\n",
    "    # Solicitamos los 200 tweets mas recientes (200 es el maximo permitido en count)\n",
    "    new_tweets = api.user_timeline(screen_name=screen_name, \n",
    "                                   tweet_mode=\"extended\", count=200)\n",
    "    # Creo una lista para almacenar TODOS los tweets y agrego los recién extraidos\n",
    "    all_tweets = []\n",
    "    all_tweets.extend(new_tweets)\n",
    "    # guardo el id del ultimo tweet extraído \n",
    "    oldest = all_tweets[-1].id \n",
    "    \n",
    "    # Extraigo tweets de a 200 hasta que no haya más\n",
    "    while len(new_tweets) > 0 and all_tweets[-1].created_at > start_date:\n",
    "        # Solicito 200 tweets mas y los agrego a la lista de 'all_tweets'\n",
    "        new_tweets = api.user_timeline(screen_name=screen_name, count=200,\n",
    "                                       tweet_mode=\"extended\", max_id=oldest-1)\n",
    "        all_tweets.extend(new_tweets)\n",
    "        # Actualizo el id del ultimo tweet extraído\n",
    "        oldest = all_tweets[-1].id \n",
    "        print(\"Hasta ahora se han extraido %s tweets\" % len(all_tweets))\n",
    "\n",
    "    return all_tweets\n"
   ]
  },
  {
   "cell_type": "code",
   "execution_count": 7,
   "metadata": {},
   "outputs": [
    {
     "name": "stdout",
     "output_type": "stream",
     "text": [
      "Hasta ahora se han extraido 400 tweets\n",
      "Hasta ahora se han extraido 600 tweets\n",
      "Hasta ahora se han extraido 800 tweets\n",
      "Hasta ahora se han extraido 1000 tweets\n",
      "Hasta ahora se han extraido 1200 tweets\n",
      "Hasta ahora se han extraido 1400 tweets\n"
     ]
    }
   ],
   "source": [
    "# Extraemos los tweets desde unos días antes de las elecciones del \n",
    "# 3 de Noviembre de 2020\n",
    "date_before_elections = datetime(2020, 10, 16, 0, 0, 0)\n",
    "all_tweets_biden = get_all_tweets(\"JoeBiden\", date_before_elections)"
   ]
  },
  {
   "cell_type": "code",
   "execution_count": 8,
   "metadata": {},
   "outputs": [
    {
     "data": {
      "text/plain": [
       "[Status(_api=<tweepy.api.API object at 0x7fa1dded2d50>, _json={'created_at': 'Wed Oct 20 19:02:18 +0000 2021', 'id': 1450900197043757058, 'id_str': '1450900197043757058', 'full_text': 'RT @POTUS: The sacred right to vote is under unrelenting assault across the country — and the Senate needs to take action to protect it. Se…', 'truncated': False, 'display_text_range': [0, 140], 'entities': {'hashtags': [], 'symbols': [], 'user_mentions': [{'screen_name': 'POTUS', 'name': 'President Biden', 'id': 1349149096909668363, 'id_str': '1349149096909668363', 'indices': [3, 9]}], 'urls': []}, 'source': '<a href=\"https://mobile.twitter.com\" rel=\"nofollow\">Twitter Web App</a>', 'in_reply_to_status_id': None, 'in_reply_to_status_id_str': None, 'in_reply_to_user_id': None, 'in_reply_to_user_id_str': None, 'in_reply_to_screen_name': None, 'user': {'id': 939091, 'id_str': '939091', 'name': 'Joe Biden', 'screen_name': 'JoeBiden', 'location': 'Washington, DC', 'description': 'Husband to @DrBiden, proud father and grandfather. Ready to build back better for all Americans. Official account is @POTUS.', 'url': 'https://t.co/UClrPuJpyZ', 'entities': {'url': {'urls': [{'url': 'https://t.co/UClrPuJpyZ', 'expanded_url': 'http://joebiden.com', 'display_url': 'joebiden.com', 'indices': [0, 23]}]}, 'description': {'urls': []}}, 'protected': False, 'followers_count': 31449554, 'friends_count': 48, 'listed_count': 37420, 'created_at': 'Sun Mar 11 17:51:24 +0000 2007', 'favourites_count': 20, 'utc_offset': None, 'time_zone': None, 'geo_enabled': False, 'verified': True, 'statuses_count': 7629, 'lang': None, 'contributors_enabled': False, 'is_translator': False, 'is_translation_enabled': False, 'profile_background_color': '565959', 'profile_background_image_url': 'http://abs.twimg.com/images/themes/theme1/bg.png', 'profile_background_image_url_https': 'https://abs.twimg.com/images/themes/theme1/bg.png', 'profile_background_tile': True, 'profile_image_url': 'http://pbs.twimg.com/profile_images/1308769664240160770/AfgzWVE7_normal.jpg', 'profile_image_url_https': 'https://pbs.twimg.com/profile_images/1308769664240160770/AfgzWVE7_normal.jpg', 'profile_banner_url': 'https://pbs.twimg.com/profile_banners/939091/1626295479', 'profile_link_color': '233F94', 'profile_sidebar_border_color': 'FFFFFF', 'profile_sidebar_fill_color': 'EBEBFF', 'profile_text_color': '323232', 'profile_use_background_image': True, 'has_extended_profile': False, 'default_profile': False, 'default_profile_image': False, 'following': False, 'follow_request_sent': False, 'notifications': False, 'translator_type': 'none', 'withheld_in_countries': []}, 'geo': None, 'coordinates': None, 'place': None, 'contributors': None, 'retweeted_status': {'created_at': 'Wed Oct 20 19:01:40 +0000 2021', 'id': 1450900038528475136, 'id_str': '1450900038528475136', 'full_text': 'The sacred right to vote is under unrelenting assault across the country — and the Senate needs to take action to protect it. Senate Republicans need to allow a debate and let there be a vote on the Freedom to Vote Act. Democracy — the very soul of America — is at stake.', 'truncated': False, 'display_text_range': [0, 271], 'entities': {'hashtags': [], 'symbols': [], 'user_mentions': [], 'urls': []}, 'source': '<a href=\"https://www.sprinklr.com\" rel=\"nofollow\">The White House</a>', 'in_reply_to_status_id': None, 'in_reply_to_status_id_str': None, 'in_reply_to_user_id': None, 'in_reply_to_user_id_str': None, 'in_reply_to_screen_name': None, 'user': {'id': 1349149096909668363, 'id_str': '1349149096909668363', 'name': 'President Biden', 'screen_name': 'POTUS', 'location': '', 'description': '46th President of the United States, husband to @FLOTUS, proud dad & pop. Tweets may be archived: https://t.co/IURuMIrzxb', 'url': 'https://t.co/IxLjEB2zlE', 'entities': {'url': {'urls': [{'url': 'https://t.co/IxLjEB2zlE', 'expanded_url': 'http://WhiteHouse.gov', 'display_url': 'WhiteHouse.gov', 'indices': [0, 23]}]}, 'description': {'urls': [{'url': 'https://t.co/IURuMIrzxb', 'expanded_url': 'http://whitehouse.gov/privacy', 'display_url': 'whitehouse.gov/privacy', 'indices': [98, 121]}]}}, 'protected': False, 'followers_count': 14513661, 'friends_count': 12, 'listed_count': 13758, 'created_at': 'Wed Jan 13 00:37:08 +0000 2021', 'favourites_count': 0, 'utc_offset': None, 'time_zone': None, 'geo_enabled': False, 'verified': True, 'statuses_count': 1720, 'lang': None, 'contributors_enabled': False, 'is_translator': False, 'is_translation_enabled': False, 'profile_background_color': 'F5F8FA', 'profile_background_image_url': None, 'profile_background_image_url_https': None, 'profile_background_tile': False, 'profile_image_url': 'http://pbs.twimg.com/profile_images/1380530524779859970/TfwVAbyX_normal.jpg', 'profile_image_url_https': 'https://pbs.twimg.com/profile_images/1380530524779859970/TfwVAbyX_normal.jpg', 'profile_banner_url': 'https://pbs.twimg.com/profile_banners/1349149096909668363/1628476962', 'profile_link_color': '1DA1F2', 'profile_sidebar_border_color': 'C0DEED', 'profile_sidebar_fill_color': 'DDEEF6', 'profile_text_color': '333333', 'profile_use_background_image': True, 'has_extended_profile': True, 'default_profile': True, 'default_profile_image': False, 'following': False, 'follow_request_sent': False, 'notifications': False, 'translator_type': 'none', 'withheld_in_countries': []}, 'geo': None, 'coordinates': None, 'place': None, 'contributors': None, 'is_quote_status': False, 'retweet_count': 2425, 'favorite_count': 10764, 'favorited': False, 'retweeted': False, 'lang': 'en'}, 'is_quote_status': False, 'retweet_count': 2425, 'favorite_count': 0, 'favorited': False, 'retweeted': False, 'lang': 'en'}, created_at=datetime.datetime(2021, 10, 20, 19, 2, 18), id=1450900197043757058, id_str='1450900197043757058', full_text='RT @POTUS: The sacred right to vote is under unrelenting assault across the country — and the Senate needs to take action to protect it. Se…', truncated=False, display_text_range=[0, 140], entities={'hashtags': [], 'symbols': [], 'user_mentions': [{'screen_name': 'POTUS', 'name': 'President Biden', 'id': 1349149096909668363, 'id_str': '1349149096909668363', 'indices': [3, 9]}], 'urls': []}, source='Twitter Web App', source_url='https://mobile.twitter.com', in_reply_to_status_id=None, in_reply_to_status_id_str=None, in_reply_to_user_id=None, in_reply_to_user_id_str=None, in_reply_to_screen_name=None, author=User(_api=<tweepy.api.API object at 0x7fa1dded2d50>, _json={'id': 939091, 'id_str': '939091', 'name': 'Joe Biden', 'screen_name': 'JoeBiden', 'location': 'Washington, DC', 'description': 'Husband to @DrBiden, proud father and grandfather. Ready to build back better for all Americans. Official account is @POTUS.', 'url': 'https://t.co/UClrPuJpyZ', 'entities': {'url': {'urls': [{'url': 'https://t.co/UClrPuJpyZ', 'expanded_url': 'http://joebiden.com', 'display_url': 'joebiden.com', 'indices': [0, 23]}]}, 'description': {'urls': []}}, 'protected': False, 'followers_count': 31449554, 'friends_count': 48, 'listed_count': 37420, 'created_at': 'Sun Mar 11 17:51:24 +0000 2007', 'favourites_count': 20, 'utc_offset': None, 'time_zone': None, 'geo_enabled': False, 'verified': True, 'statuses_count': 7629, 'lang': None, 'contributors_enabled': False, 'is_translator': False, 'is_translation_enabled': False, 'profile_background_color': '565959', 'profile_background_image_url': 'http://abs.twimg.com/images/themes/theme1/bg.png', 'profile_background_image_url_https': 'https://abs.twimg.com/images/themes/theme1/bg.png', 'profile_background_tile': True, 'profile_image_url': 'http://pbs.twimg.com/profile_images/1308769664240160770/AfgzWVE7_normal.jpg', 'profile_image_url_https': 'https://pbs.twimg.com/profile_images/1308769664240160770/AfgzWVE7_normal.jpg', 'profile_banner_url': 'https://pbs.twimg.com/profile_banners/939091/1626295479', 'profile_link_color': '233F94', 'profile_sidebar_border_color': 'FFFFFF', 'profile_sidebar_fill_color': 'EBEBFF', 'profile_text_color': '323232', 'profile_use_background_image': True, 'has_extended_profile': False, 'default_profile': False, 'default_profile_image': False, 'following': False, 'follow_request_sent': False, 'notifications': False, 'translator_type': 'none', 'withheld_in_countries': []}, id=939091, id_str='939091', name='Joe Biden', screen_name='JoeBiden', location='Washington, DC', description='Husband to @DrBiden, proud father and grandfather. Ready to build back better for all Americans. Official account is @POTUS.', url='https://t.co/UClrPuJpyZ', entities={'url': {'urls': [{'url': 'https://t.co/UClrPuJpyZ', 'expanded_url': 'http://joebiden.com', 'display_url': 'joebiden.com', 'indices': [0, 23]}]}, 'description': {'urls': []}}, protected=False, followers_count=31449554, friends_count=48, listed_count=37420, created_at=datetime.datetime(2007, 3, 11, 17, 51, 24), favourites_count=20, utc_offset=None, time_zone=None, geo_enabled=False, verified=True, statuses_count=7629, lang=None, contributors_enabled=False, is_translator=False, is_translation_enabled=False, profile_background_color='565959', profile_background_image_url='http://abs.twimg.com/images/themes/theme1/bg.png', profile_background_image_url_https='https://abs.twimg.com/images/themes/theme1/bg.png', profile_background_tile=True, profile_image_url='http://pbs.twimg.com/profile_images/1308769664240160770/AfgzWVE7_normal.jpg', profile_image_url_https='https://pbs.twimg.com/profile_images/1308769664240160770/AfgzWVE7_normal.jpg', profile_banner_url='https://pbs.twimg.com/profile_banners/939091/1626295479', profile_link_color='233F94', profile_sidebar_border_color='FFFFFF', profile_sidebar_fill_color='EBEBFF', profile_text_color='323232', profile_use_background_image=True, has_extended_profile=False, default_profile=False, default_profile_image=False, following=False, follow_request_sent=False, notifications=False, translator_type='none', withheld_in_countries=[]), user=User(_api=<tweepy.api.API object at 0x7fa1dded2d50>, _json={'id': 939091, 'id_str': '939091', 'name': 'Joe Biden', 'screen_name': 'JoeBiden', 'location': 'Washington, DC', 'description': 'Husband to @DrBiden, proud father and grandfather. Ready to build back better for all Americans. Official account is @POTUS.', 'url': 'https://t.co/UClrPuJpyZ', 'entities': {'url': {'urls': [{'url': 'https://t.co/UClrPuJpyZ', 'expanded_url': 'http://joebiden.com', 'display_url': 'joebiden.com', 'indices': [0, 23]}]}, 'description': {'urls': []}}, 'protected': False, 'followers_count': 31449554, 'friends_count': 48, 'listed_count': 37420, 'created_at': 'Sun Mar 11 17:51:24 +0000 2007', 'favourites_count': 20, 'utc_offset': None, 'time_zone': None, 'geo_enabled': False, 'verified': True, 'statuses_count': 7629, 'lang': None, 'contributors_enabled': False, 'is_translator': False, 'is_translation_enabled': False, 'profile_background_color': '565959', 'profile_background_image_url': 'http://abs.twimg.com/images/themes/theme1/bg.png', 'profile_background_image_url_https': 'https://abs.twimg.com/images/themes/theme1/bg.png', 'profile_background_tile': True, 'profile_image_url': 'http://pbs.twimg.com/profile_images/1308769664240160770/AfgzWVE7_normal.jpg', 'profile_image_url_https': 'https://pbs.twimg.com/profile_images/1308769664240160770/AfgzWVE7_normal.jpg', 'profile_banner_url': 'https://pbs.twimg.com/profile_banners/939091/1626295479', 'profile_link_color': '233F94', 'profile_sidebar_border_color': 'FFFFFF', 'profile_sidebar_fill_color': 'EBEBFF', 'profile_text_color': '323232', 'profile_use_background_image': True, 'has_extended_profile': False, 'default_profile': False, 'default_profile_image': False, 'following': False, 'follow_request_sent': False, 'notifications': False, 'translator_type': 'none', 'withheld_in_countries': []}, id=939091, id_str='939091', name='Joe Biden', screen_name='JoeBiden', location='Washington, DC', description='Husband to @DrBiden, proud father and grandfather. Ready to build back better for all Americans. Official account is @POTUS.', url='https://t.co/UClrPuJpyZ', entities={'url': {'urls': [{'url': 'https://t.co/UClrPuJpyZ', 'expanded_url': 'http://joebiden.com', 'display_url': 'joebiden.com', 'indices': [0, 23]}]}, 'description': {'urls': []}}, protected=False, followers_count=31449554, friends_count=48, listed_count=37420, created_at=datetime.datetime(2007, 3, 11, 17, 51, 24), favourites_count=20, utc_offset=None, time_zone=None, geo_enabled=False, verified=True, statuses_count=7629, lang=None, contributors_enabled=False, is_translator=False, is_translation_enabled=False, profile_background_color='565959', profile_background_image_url='http://abs.twimg.com/images/themes/theme1/bg.png', profile_background_image_url_https='https://abs.twimg.com/images/themes/theme1/bg.png', profile_background_tile=True, profile_image_url='http://pbs.twimg.com/profile_images/1308769664240160770/AfgzWVE7_normal.jpg', profile_image_url_https='https://pbs.twimg.com/profile_images/1308769664240160770/AfgzWVE7_normal.jpg', profile_banner_url='https://pbs.twimg.com/profile_banners/939091/1626295479', profile_link_color='233F94', profile_sidebar_border_color='FFFFFF', profile_sidebar_fill_color='EBEBFF', profile_text_color='323232', profile_use_background_image=True, has_extended_profile=False, default_profile=False, default_profile_image=False, following=False, follow_request_sent=False, notifications=False, translator_type='none', withheld_in_countries=[]), geo=None, coordinates=None, place=None, contributors=None, retweeted_status=Status(_api=<tweepy.api.API object at 0x7fa1dded2d50>, _json={'created_at': 'Wed Oct 20 19:01:40 +0000 2021', 'id': 1450900038528475136, 'id_str': '1450900038528475136', 'full_text': 'The sacred right to vote is under unrelenting assault across the country — and the Senate needs to take action to protect it. Senate Republicans need to allow a debate and let there be a vote on the Freedom to Vote Act. Democracy — the very soul of America — is at stake.', 'truncated': False, 'display_text_range': [0, 271], 'entities': {'hashtags': [], 'symbols': [], 'user_mentions': [], 'urls': []}, 'source': '<a href=\"https://www.sprinklr.com\" rel=\"nofollow\">The White House</a>', 'in_reply_to_status_id': None, 'in_reply_to_status_id_str': None, 'in_reply_to_user_id': None, 'in_reply_to_user_id_str': None, 'in_reply_to_screen_name': None, 'user': {'id': 1349149096909668363, 'id_str': '1349149096909668363', 'name': 'President Biden', 'screen_name': 'POTUS', 'location': '', 'description': '46th President of the United States, husband to @FLOTUS, proud dad & pop. Tweets may be archived: https://t.co/IURuMIrzxb', 'url': 'https://t.co/IxLjEB2zlE', 'entities': {'url': {'urls': [{'url': 'https://t.co/IxLjEB2zlE', 'expanded_url': 'http://WhiteHouse.gov', 'display_url': 'WhiteHouse.gov', 'indices': [0, 23]}]}, 'description': {'urls': [{'url': 'https://t.co/IURuMIrzxb', 'expanded_url': 'http://whitehouse.gov/privacy', 'display_url': 'whitehouse.gov/privacy', 'indices': [98, 121]}]}}, 'protected': False, 'followers_count': 14513661, 'friends_count': 12, 'listed_count': 13758, 'created_at': 'Wed Jan 13 00:37:08 +0000 2021', 'favourites_count': 0, 'utc_offset': None, 'time_zone': None, 'geo_enabled': False, 'verified': True, 'statuses_count': 1720, 'lang': None, 'contributors_enabled': False, 'is_translator': False, 'is_translation_enabled': False, 'profile_background_color': 'F5F8FA', 'profile_background_image_url': None, 'profile_background_image_url_https': None, 'profile_background_tile': False, 'profile_image_url': 'http://pbs.twimg.com/profile_images/1380530524779859970/TfwVAbyX_normal.jpg', 'profile_image_url_https': 'https://pbs.twimg.com/profile_images/1380530524779859970/TfwVAbyX_normal.jpg', 'profile_banner_url': 'https://pbs.twimg.com/profile_banners/1349149096909668363/1628476962', 'profile_link_color': '1DA1F2', 'profile_sidebar_border_color': 'C0DEED', 'profile_sidebar_fill_color': 'DDEEF6', 'profile_text_color': '333333', 'profile_use_background_image': True, 'has_extended_profile': True, 'default_profile': True, 'default_profile_image': False, 'following': False, 'follow_request_sent': False, 'notifications': False, 'translator_type': 'none', 'withheld_in_countries': []}, 'geo': None, 'coordinates': None, 'place': None, 'contributors': None, 'is_quote_status': False, 'retweet_count': 2425, 'favorite_count': 10764, 'favorited': False, 'retweeted': False, 'lang': 'en'}, created_at=datetime.datetime(2021, 10, 20, 19, 1, 40), id=1450900038528475136, id_str='1450900038528475136', full_text='The sacred right to vote is under unrelenting assault across the country — and the Senate needs to take action to protect it. Senate Republicans need to allow a debate and let there be a vote on the Freedom to Vote Act. Democracy — the very soul of America — is at stake.', truncated=False, display_text_range=[0, 271], entities={'hashtags': [], 'symbols': [], 'user_mentions': [], 'urls': []}, source='The White House', source_url='https://www.sprinklr.com', in_reply_to_status_id=None, in_reply_to_status_id_str=None, in_reply_to_user_id=None, in_reply_to_user_id_str=None, in_reply_to_screen_name=None, author=User(_api=<tweepy.api.API object at 0x7fa1dded2d50>, _json={'id': 1349149096909668363, 'id_str': '1349149096909668363', 'name': 'President Biden', 'screen_name': 'POTUS', 'location': '', 'description': '46th President of the United States, husband to @FLOTUS, proud dad & pop. Tweets may be archived: https://t.co/IURuMIrzxb', 'url': 'https://t.co/IxLjEB2zlE', 'entities': {'url': {'urls': [{'url': 'https://t.co/IxLjEB2zlE', 'expanded_url': 'http://WhiteHouse.gov', 'display_url': 'WhiteHouse.gov', 'indices': [0, 23]}]}, 'description': {'urls': [{'url': 'https://t.co/IURuMIrzxb', 'expanded_url': 'http://whitehouse.gov/privacy', 'display_url': 'whitehouse.gov/privacy', 'indices': [98, 121]}]}}, 'protected': False, 'followers_count': 14513661, 'friends_count': 12, 'listed_count': 13758, 'created_at': 'Wed Jan 13 00:37:08 +0000 2021', 'favourites_count': 0, 'utc_offset': None, 'time_zone': None, 'geo_enabled': False, 'verified': True, 'statuses_count': 1720, 'lang': None, 'contributors_enabled': False, 'is_translator': False, 'is_translation_enabled': False, 'profile_background_color': 'F5F8FA', 'profile_background_image_url': None, 'profile_background_image_url_https': None, 'profile_background_tile': False, 'profile_image_url': 'http://pbs.twimg.com/profile_images/1380530524779859970/TfwVAbyX_normal.jpg', 'profile_image_url_https': 'https://pbs.twimg.com/profile_images/1380530524779859970/TfwVAbyX_normal.jpg', 'profile_banner_url': 'https://pbs.twimg.com/profile_banners/1349149096909668363/1628476962', 'profile_link_color': '1DA1F2', 'profile_sidebar_border_color': 'C0DEED', 'profile_sidebar_fill_color': 'DDEEF6', 'profile_text_color': '333333', 'profile_use_background_image': True, 'has_extended_profile': True, 'default_profile': True, 'default_profile_image': False, 'following': False, 'follow_request_sent': False, 'notifications': False, 'translator_type': 'none', 'withheld_in_countries': []}, id=1349149096909668363, id_str='1349149096909668363', name='President Biden', screen_name='POTUS', location='', description='46th President of the United States, husband to @FLOTUS, proud dad & pop. Tweets may be archived: https://t.co/IURuMIrzxb', url='https://t.co/IxLjEB2zlE', entities={'url': {'urls': [{'url': 'https://t.co/IxLjEB2zlE', 'expanded_url': 'http://WhiteHouse.gov', 'display_url': 'WhiteHouse.gov', 'indices': [0, 23]}]}, 'description': {'urls': [{'url': 'https://t.co/IURuMIrzxb', 'expanded_url': 'http://whitehouse.gov/privacy', 'display_url': 'whitehouse.gov/privacy', 'indices': [98, 121]}]}}, protected=False, followers_count=14513661, friends_count=12, listed_count=13758, created_at=datetime.datetime(2021, 1, 13, 0, 37, 8), favourites_count=0, utc_offset=None, time_zone=None, geo_enabled=False, verified=True, statuses_count=1720, lang=None, contributors_enabled=False, is_translator=False, is_translation_enabled=False, profile_background_color='F5F8FA', profile_background_image_url=None, profile_background_image_url_https=None, profile_background_tile=False, profile_image_url='http://pbs.twimg.com/profile_images/1380530524779859970/TfwVAbyX_normal.jpg', profile_image_url_https='https://pbs.twimg.com/profile_images/1380530524779859970/TfwVAbyX_normal.jpg', profile_banner_url='https://pbs.twimg.com/profile_banners/1349149096909668363/1628476962', profile_link_color='1DA1F2', profile_sidebar_border_color='C0DEED', profile_sidebar_fill_color='DDEEF6', profile_text_color='333333', profile_use_background_image=True, has_extended_profile=True, default_profile=True, default_profile_image=False, following=False, follow_request_sent=False, notifications=False, translator_type='none', withheld_in_countries=[]), user=User(_api=<tweepy.api.API object at 0x7fa1dded2d50>, _json={'id': 1349149096909668363, 'id_str': '1349149096909668363', 'name': 'President Biden', 'screen_name': 'POTUS', 'location': '', 'description': '46th President of the United States, husband to @FLOTUS, proud dad & pop. Tweets may be archived: https://t.co/IURuMIrzxb', 'url': 'https://t.co/IxLjEB2zlE', 'entities': {'url': {'urls': [{'url': 'https://t.co/IxLjEB2zlE', 'expanded_url': 'http://WhiteHouse.gov', 'display_url': 'WhiteHouse.gov', 'indices': [0, 23]}]}, 'description': {'urls': [{'url': 'https://t.co/IURuMIrzxb', 'expanded_url': 'http://whitehouse.gov/privacy', 'display_url': 'whitehouse.gov/privacy', 'indices': [98, 121]}]}}, 'protected': False, 'followers_count': 14513661, 'friends_count': 12, 'listed_count': 13758, 'created_at': 'Wed Jan 13 00:37:08 +0000 2021', 'favourites_count': 0, 'utc_offset': None, 'time_zone': None, 'geo_enabled': False, 'verified': True, 'statuses_count': 1720, 'lang': None, 'contributors_enabled': False, 'is_translator': False, 'is_translation_enabled': False, 'profile_background_color': 'F5F8FA', 'profile_background_image_url': None, 'profile_background_image_url_https': None, 'profile_background_tile': False, 'profile_image_url': 'http://pbs.twimg.com/profile_images/1380530524779859970/TfwVAbyX_normal.jpg', 'profile_image_url_https': 'https://pbs.twimg.com/profile_images/1380530524779859970/TfwVAbyX_normal.jpg', 'profile_banner_url': 'https://pbs.twimg.com/profile_banners/1349149096909668363/1628476962', 'profile_link_color': '1DA1F2', 'profile_sidebar_border_color': 'C0DEED', 'profile_sidebar_fill_color': 'DDEEF6', 'profile_text_color': '333333', 'profile_use_background_image': True, 'has_extended_profile': True, 'default_profile': True, 'default_profile_image': False, 'following': False, 'follow_request_sent': False, 'notifications': False, 'translator_type': 'none', 'withheld_in_countries': []}, id=1349149096909668363, id_str='1349149096909668363', name='President Biden', screen_name='POTUS', location='', description='46th President of the United States, husband to @FLOTUS, proud dad & pop. Tweets may be archived: https://t.co/IURuMIrzxb', url='https://t.co/IxLjEB2zlE', entities={'url': {'urls': [{'url': 'https://t.co/IxLjEB2zlE', 'expanded_url': 'http://WhiteHouse.gov', 'display_url': 'WhiteHouse.gov', 'indices': [0, 23]}]}, 'description': {'urls': [{'url': 'https://t.co/IURuMIrzxb', 'expanded_url': 'http://whitehouse.gov/privacy', 'display_url': 'whitehouse.gov/privacy', 'indices': [98, 121]}]}}, protected=False, followers_count=14513661, friends_count=12, listed_count=13758, created_at=datetime.datetime(2021, 1, 13, 0, 37, 8), favourites_count=0, utc_offset=None, time_zone=None, geo_enabled=False, verified=True, statuses_count=1720, lang=None, contributors_enabled=False, is_translator=False, is_translation_enabled=False, profile_background_color='F5F8FA', profile_background_image_url=None, profile_background_image_url_https=None, profile_background_tile=False, profile_image_url='http://pbs.twimg.com/profile_images/1380530524779859970/TfwVAbyX_normal.jpg', profile_image_url_https='https://pbs.twimg.com/profile_images/1380530524779859970/TfwVAbyX_normal.jpg', profile_banner_url='https://pbs.twimg.com/profile_banners/1349149096909668363/1628476962', profile_link_color='1DA1F2', profile_sidebar_border_color='C0DEED', profile_sidebar_fill_color='DDEEF6', profile_text_color='333333', profile_use_background_image=True, has_extended_profile=True, default_profile=True, default_profile_image=False, following=False, follow_request_sent=False, notifications=False, translator_type='none', withheld_in_countries=[]), geo=None, coordinates=None, place=None, contributors=None, is_quote_status=False, retweet_count=2425, favorite_count=10764, favorited=False, retweeted=False, lang='en'), is_quote_status=False, retweet_count=2425, favorite_count=0, favorited=False, retweeted=False, lang='en'),\n",
       " Status(_api=<tweepy.api.API object at 0x7fa1dded2d50>, _json={'created_at': 'Tue Oct 19 14:40:18 +0000 2021', 'id': 1450471875382059018, 'id_str': '1450471875382059018', 'full_text': 'Building back better starts in the states. Since flipping the legislature in 2019, Virginia Democrats have been a model of progress—including helping us vaccinate folks to beat the pandemic. To keep our progress, we must elect @TerryMcAuliffe and Democrats up and down the ballot. https://t.co/NsJiiPNzlv', 'truncated': False, 'display_text_range': [0, 280], 'entities': {'hashtags': [], 'symbols': [], 'user_mentions': [{'screen_name': 'TerryMcAuliffe', 'name': 'Terry McAuliffe', 'id': 19471123, 'id_str': '19471123', 'indices': [227, 242]}], 'urls': [], 'media': [{'id': 1450471870709616646, 'id_str': '1450471870709616646', 'indices': [281, 304], 'media_url': 'http://pbs.twimg.com/media/FCEce0JX0AY_zt_.png', 'media_url_https': 'https://pbs.twimg.com/media/FCEce0JX0AY_zt_.png', 'url': 'https://t.co/NsJiiPNzlv', 'display_url': 'pic.twitter.com/NsJiiPNzlv', 'expanded_url': 'https://twitter.com/JoeBiden/status/1450471875382059018/photo/1', 'type': 'photo', 'sizes': {'small': {'w': 680, 'h': 680, 'resize': 'fit'}, 'large': {'w': 1200, 'h': 1200, 'resize': 'fit'}, 'thumb': {'w': 150, 'h': 150, 'resize': 'crop'}, 'medium': {'w': 1200, 'h': 1200, 'resize': 'fit'}}}]}, 'extended_entities': {'media': [{'id': 1450471870709616646, 'id_str': '1450471870709616646', 'indices': [281, 304], 'media_url': 'http://pbs.twimg.com/media/FCEce0JX0AY_zt_.png', 'media_url_https': 'https://pbs.twimg.com/media/FCEce0JX0AY_zt_.png', 'url': 'https://t.co/NsJiiPNzlv', 'display_url': 'pic.twitter.com/NsJiiPNzlv', 'expanded_url': 'https://twitter.com/JoeBiden/status/1450471875382059018/photo/1', 'type': 'photo', 'sizes': {'small': {'w': 680, 'h': 680, 'resize': 'fit'}, 'large': {'w': 1200, 'h': 1200, 'resize': 'fit'}, 'thumb': {'w': 150, 'h': 150, 'resize': 'crop'}, 'medium': {'w': 1200, 'h': 1200, 'resize': 'fit'}}}]}, 'source': '<a href=\"https://sproutsocial.com\" rel=\"nofollow\">Sprout Social</a>', 'in_reply_to_status_id': None, 'in_reply_to_status_id_str': None, 'in_reply_to_user_id': None, 'in_reply_to_user_id_str': None, 'in_reply_to_screen_name': None, 'user': {'id': 939091, 'id_str': '939091', 'name': 'Joe Biden', 'screen_name': 'JoeBiden', 'location': 'Washington, DC', 'description': 'Husband to @DrBiden, proud father and grandfather. Ready to build back better for all Americans. Official account is @POTUS.', 'url': 'https://t.co/UClrPuJpyZ', 'entities': {'url': {'urls': [{'url': 'https://t.co/UClrPuJpyZ', 'expanded_url': 'http://joebiden.com', 'display_url': 'joebiden.com', 'indices': [0, 23]}]}, 'description': {'urls': []}}, 'protected': False, 'followers_count': 31449554, 'friends_count': 48, 'listed_count': 37420, 'created_at': 'Sun Mar 11 17:51:24 +0000 2007', 'favourites_count': 20, 'utc_offset': None, 'time_zone': None, 'geo_enabled': False, 'verified': True, 'statuses_count': 7629, 'lang': None, 'contributors_enabled': False, 'is_translator': False, 'is_translation_enabled': False, 'profile_background_color': '565959', 'profile_background_image_url': 'http://abs.twimg.com/images/themes/theme1/bg.png', 'profile_background_image_url_https': 'https://abs.twimg.com/images/themes/theme1/bg.png', 'profile_background_tile': True, 'profile_image_url': 'http://pbs.twimg.com/profile_images/1308769664240160770/AfgzWVE7_normal.jpg', 'profile_image_url_https': 'https://pbs.twimg.com/profile_images/1308769664240160770/AfgzWVE7_normal.jpg', 'profile_banner_url': 'https://pbs.twimg.com/profile_banners/939091/1626295479', 'profile_link_color': '233F94', 'profile_sidebar_border_color': 'FFFFFF', 'profile_sidebar_fill_color': 'EBEBFF', 'profile_text_color': '323232', 'profile_use_background_image': True, 'has_extended_profile': False, 'default_profile': False, 'default_profile_image': False, 'following': False, 'follow_request_sent': False, 'notifications': False, 'translator_type': 'none', 'withheld_in_countries': []}, 'geo': None, 'coordinates': None, 'place': None, 'contributors': None, 'is_quote_status': False, 'retweet_count': 1776, 'favorite_count': 7190, 'favorited': False, 'retweeted': False, 'possibly_sensitive': False, 'lang': 'en'}, created_at=datetime.datetime(2021, 10, 19, 14, 40, 18), id=1450471875382059018, id_str='1450471875382059018', full_text='Building back better starts in the states. Since flipping the legislature in 2019, Virginia Democrats have been a model of progress—including helping us vaccinate folks to beat the pandemic. To keep our progress, we must elect @TerryMcAuliffe and Democrats up and down the ballot. https://t.co/NsJiiPNzlv', truncated=False, display_text_range=[0, 280], entities={'hashtags': [], 'symbols': [], 'user_mentions': [{'screen_name': 'TerryMcAuliffe', 'name': 'Terry McAuliffe', 'id': 19471123, 'id_str': '19471123', 'indices': [227, 242]}], 'urls': [], 'media': [{'id': 1450471870709616646, 'id_str': '1450471870709616646', 'indices': [281, 304], 'media_url': 'http://pbs.twimg.com/media/FCEce0JX0AY_zt_.png', 'media_url_https': 'https://pbs.twimg.com/media/FCEce0JX0AY_zt_.png', 'url': 'https://t.co/NsJiiPNzlv', 'display_url': 'pic.twitter.com/NsJiiPNzlv', 'expanded_url': 'https://twitter.com/JoeBiden/status/1450471875382059018/photo/1', 'type': 'photo', 'sizes': {'small': {'w': 680, 'h': 680, 'resize': 'fit'}, 'large': {'w': 1200, 'h': 1200, 'resize': 'fit'}, 'thumb': {'w': 150, 'h': 150, 'resize': 'crop'}, 'medium': {'w': 1200, 'h': 1200, 'resize': 'fit'}}}]}, extended_entities={'media': [{'id': 1450471870709616646, 'id_str': '1450471870709616646', 'indices': [281, 304], 'media_url': 'http://pbs.twimg.com/media/FCEce0JX0AY_zt_.png', 'media_url_https': 'https://pbs.twimg.com/media/FCEce0JX0AY_zt_.png', 'url': 'https://t.co/NsJiiPNzlv', 'display_url': 'pic.twitter.com/NsJiiPNzlv', 'expanded_url': 'https://twitter.com/JoeBiden/status/1450471875382059018/photo/1', 'type': 'photo', 'sizes': {'small': {'w': 680, 'h': 680, 'resize': 'fit'}, 'large': {'w': 1200, 'h': 1200, 'resize': 'fit'}, 'thumb': {'w': 150, 'h': 150, 'resize': 'crop'}, 'medium': {'w': 1200, 'h': 1200, 'resize': 'fit'}}}]}, source='Sprout Social', source_url='https://sproutsocial.com', in_reply_to_status_id=None, in_reply_to_status_id_str=None, in_reply_to_user_id=None, in_reply_to_user_id_str=None, in_reply_to_screen_name=None, author=User(_api=<tweepy.api.API object at 0x7fa1dded2d50>, _json={'id': 939091, 'id_str': '939091', 'name': 'Joe Biden', 'screen_name': 'JoeBiden', 'location': 'Washington, DC', 'description': 'Husband to @DrBiden, proud father and grandfather. Ready to build back better for all Americans. Official account is @POTUS.', 'url': 'https://t.co/UClrPuJpyZ', 'entities': {'url': {'urls': [{'url': 'https://t.co/UClrPuJpyZ', 'expanded_url': 'http://joebiden.com', 'display_url': 'joebiden.com', 'indices': [0, 23]}]}, 'description': {'urls': []}}, 'protected': False, 'followers_count': 31449554, 'friends_count': 48, 'listed_count': 37420, 'created_at': 'Sun Mar 11 17:51:24 +0000 2007', 'favourites_count': 20, 'utc_offset': None, 'time_zone': None, 'geo_enabled': False, 'verified': True, 'statuses_count': 7629, 'lang': None, 'contributors_enabled': False, 'is_translator': False, 'is_translation_enabled': False, 'profile_background_color': '565959', 'profile_background_image_url': 'http://abs.twimg.com/images/themes/theme1/bg.png', 'profile_background_image_url_https': 'https://abs.twimg.com/images/themes/theme1/bg.png', 'profile_background_tile': True, 'profile_image_url': 'http://pbs.twimg.com/profile_images/1308769664240160770/AfgzWVE7_normal.jpg', 'profile_image_url_https': 'https://pbs.twimg.com/profile_images/1308769664240160770/AfgzWVE7_normal.jpg', 'profile_banner_url': 'https://pbs.twimg.com/profile_banners/939091/1626295479', 'profile_link_color': '233F94', 'profile_sidebar_border_color': 'FFFFFF', 'profile_sidebar_fill_color': 'EBEBFF', 'profile_text_color': '323232', 'profile_use_background_image': True, 'has_extended_profile': False, 'default_profile': False, 'default_profile_image': False, 'following': False, 'follow_request_sent': False, 'notifications': False, 'translator_type': 'none', 'withheld_in_countries': []}, id=939091, id_str='939091', name='Joe Biden', screen_name='JoeBiden', location='Washington, DC', description='Husband to @DrBiden, proud father and grandfather. Ready to build back better for all Americans. Official account is @POTUS.', url='https://t.co/UClrPuJpyZ', entities={'url': {'urls': [{'url': 'https://t.co/UClrPuJpyZ', 'expanded_url': 'http://joebiden.com', 'display_url': 'joebiden.com', 'indices': [0, 23]}]}, 'description': {'urls': []}}, protected=False, followers_count=31449554, friends_count=48, listed_count=37420, created_at=datetime.datetime(2007, 3, 11, 17, 51, 24), favourites_count=20, utc_offset=None, time_zone=None, geo_enabled=False, verified=True, statuses_count=7629, lang=None, contributors_enabled=False, is_translator=False, is_translation_enabled=False, profile_background_color='565959', profile_background_image_url='http://abs.twimg.com/images/themes/theme1/bg.png', profile_background_image_url_https='https://abs.twimg.com/images/themes/theme1/bg.png', profile_background_tile=True, profile_image_url='http://pbs.twimg.com/profile_images/1308769664240160770/AfgzWVE7_normal.jpg', profile_image_url_https='https://pbs.twimg.com/profile_images/1308769664240160770/AfgzWVE7_normal.jpg', profile_banner_url='https://pbs.twimg.com/profile_banners/939091/1626295479', profile_link_color='233F94', profile_sidebar_border_color='FFFFFF', profile_sidebar_fill_color='EBEBFF', profile_text_color='323232', profile_use_background_image=True, has_extended_profile=False, default_profile=False, default_profile_image=False, following=False, follow_request_sent=False, notifications=False, translator_type='none', withheld_in_countries=[]), user=User(_api=<tweepy.api.API object at 0x7fa1dded2d50>, _json={'id': 939091, 'id_str': '939091', 'name': 'Joe Biden', 'screen_name': 'JoeBiden', 'location': 'Washington, DC', 'description': 'Husband to @DrBiden, proud father and grandfather. Ready to build back better for all Americans. Official account is @POTUS.', 'url': 'https://t.co/UClrPuJpyZ', 'entities': {'url': {'urls': [{'url': 'https://t.co/UClrPuJpyZ', 'expanded_url': 'http://joebiden.com', 'display_url': 'joebiden.com', 'indices': [0, 23]}]}, 'description': {'urls': []}}, 'protected': False, 'followers_count': 31449554, 'friends_count': 48, 'listed_count': 37420, 'created_at': 'Sun Mar 11 17:51:24 +0000 2007', 'favourites_count': 20, 'utc_offset': None, 'time_zone': None, 'geo_enabled': False, 'verified': True, 'statuses_count': 7629, 'lang': None, 'contributors_enabled': False, 'is_translator': False, 'is_translation_enabled': False, 'profile_background_color': '565959', 'profile_background_image_url': 'http://abs.twimg.com/images/themes/theme1/bg.png', 'profile_background_image_url_https': 'https://abs.twimg.com/images/themes/theme1/bg.png', 'profile_background_tile': True, 'profile_image_url': 'http://pbs.twimg.com/profile_images/1308769664240160770/AfgzWVE7_normal.jpg', 'profile_image_url_https': 'https://pbs.twimg.com/profile_images/1308769664240160770/AfgzWVE7_normal.jpg', 'profile_banner_url': 'https://pbs.twimg.com/profile_banners/939091/1626295479', 'profile_link_color': '233F94', 'profile_sidebar_border_color': 'FFFFFF', 'profile_sidebar_fill_color': 'EBEBFF', 'profile_text_color': '323232', 'profile_use_background_image': True, 'has_extended_profile': False, 'default_profile': False, 'default_profile_image': False, 'following': False, 'follow_request_sent': False, 'notifications': False, 'translator_type': 'none', 'withheld_in_countries': []}, id=939091, id_str='939091', name='Joe Biden', screen_name='JoeBiden', location='Washington, DC', description='Husband to @DrBiden, proud father and grandfather. Ready to build back better for all Americans. Official account is @POTUS.', url='https://t.co/UClrPuJpyZ', entities={'url': {'urls': [{'url': 'https://t.co/UClrPuJpyZ', 'expanded_url': 'http://joebiden.com', 'display_url': 'joebiden.com', 'indices': [0, 23]}]}, 'description': {'urls': []}}, protected=False, followers_count=31449554, friends_count=48, listed_count=37420, created_at=datetime.datetime(2007, 3, 11, 17, 51, 24), favourites_count=20, utc_offset=None, time_zone=None, geo_enabled=False, verified=True, statuses_count=7629, lang=None, contributors_enabled=False, is_translator=False, is_translation_enabled=False, profile_background_color='565959', profile_background_image_url='http://abs.twimg.com/images/themes/theme1/bg.png', profile_background_image_url_https='https://abs.twimg.com/images/themes/theme1/bg.png', profile_background_tile=True, profile_image_url='http://pbs.twimg.com/profile_images/1308769664240160770/AfgzWVE7_normal.jpg', profile_image_url_https='https://pbs.twimg.com/profile_images/1308769664240160770/AfgzWVE7_normal.jpg', profile_banner_url='https://pbs.twimg.com/profile_banners/939091/1626295479', profile_link_color='233F94', profile_sidebar_border_color='FFFFFF', profile_sidebar_fill_color='EBEBFF', profile_text_color='323232', profile_use_background_image=True, has_extended_profile=False, default_profile=False, default_profile_image=False, following=False, follow_request_sent=False, notifications=False, translator_type='none', withheld_in_countries=[]), geo=None, coordinates=None, place=None, contributors=None, is_quote_status=False, retweet_count=1776, favorite_count=7190, favorited=False, retweeted=False, possibly_sensitive=False, lang='en'),\n",
       " Status(_api=<tweepy.api.API object at 0x7fa1dded2d50>, _json={'created_at': 'Mon Oct 18 20:54:00 +0000 2021', 'id': 1450203535065460742, 'id_str': '1450203535065460742', 'full_text': 'For the better part of the 20th century, America led the world in investments in ourselves, in our people, in our country. But now, we risk losing our edge as a nation. Passing the Build Back Better Agenda will help us regain the momentum that we’ve lost.', 'truncated': False, 'display_text_range': [0, 255], 'entities': {'hashtags': [], 'symbols': [], 'user_mentions': [], 'urls': []}, 'source': '<a href=\"https://sproutsocial.com\" rel=\"nofollow\">Sprout Social</a>', 'in_reply_to_status_id': None, 'in_reply_to_status_id_str': None, 'in_reply_to_user_id': None, 'in_reply_to_user_id_str': None, 'in_reply_to_screen_name': None, 'user': {'id': 939091, 'id_str': '939091', 'name': 'Joe Biden', 'screen_name': 'JoeBiden', 'location': 'Washington, DC', 'description': 'Husband to @DrBiden, proud father and grandfather. Ready to build back better for all Americans. Official account is @POTUS.', 'url': 'https://t.co/UClrPuJpyZ', 'entities': {'url': {'urls': [{'url': 'https://t.co/UClrPuJpyZ', 'expanded_url': 'http://joebiden.com', 'display_url': 'joebiden.com', 'indices': [0, 23]}]}, 'description': {'urls': []}}, 'protected': False, 'followers_count': 31449554, 'friends_count': 48, 'listed_count': 37420, 'created_at': 'Sun Mar 11 17:51:24 +0000 2007', 'favourites_count': 20, 'utc_offset': None, 'time_zone': None, 'geo_enabled': False, 'verified': True, 'statuses_count': 7629, 'lang': None, 'contributors_enabled': False, 'is_translator': False, 'is_translation_enabled': False, 'profile_background_color': '565959', 'profile_background_image_url': 'http://abs.twimg.com/images/themes/theme1/bg.png', 'profile_background_image_url_https': 'https://abs.twimg.com/images/themes/theme1/bg.png', 'profile_background_tile': True, 'profile_image_url': 'http://pbs.twimg.com/profile_images/1308769664240160770/AfgzWVE7_normal.jpg', 'profile_image_url_https': 'https://pbs.twimg.com/profile_images/1308769664240160770/AfgzWVE7_normal.jpg', 'profile_banner_url': 'https://pbs.twimg.com/profile_banners/939091/1626295479', 'profile_link_color': '233F94', 'profile_sidebar_border_color': 'FFFFFF', 'profile_sidebar_fill_color': 'EBEBFF', 'profile_text_color': '323232', 'profile_use_background_image': True, 'has_extended_profile': False, 'default_profile': False, 'default_profile_image': False, 'following': False, 'follow_request_sent': False, 'notifications': False, 'translator_type': 'none', 'withheld_in_countries': []}, 'geo': None, 'coordinates': None, 'place': None, 'contributors': None, 'is_quote_status': False, 'retweet_count': 2683, 'favorite_count': 17780, 'favorited': False, 'retweeted': False, 'lang': 'en'}, created_at=datetime.datetime(2021, 10, 18, 20, 54), id=1450203535065460742, id_str='1450203535065460742', full_text='For the better part of the 20th century, America led the world in investments in ourselves, in our people, in our country. But now, we risk losing our edge as a nation. Passing the Build Back Better Agenda will help us regain the momentum that we’ve lost.', truncated=False, display_text_range=[0, 255], entities={'hashtags': [], 'symbols': [], 'user_mentions': [], 'urls': []}, source='Sprout Social', source_url='https://sproutsocial.com', in_reply_to_status_id=None, in_reply_to_status_id_str=None, in_reply_to_user_id=None, in_reply_to_user_id_str=None, in_reply_to_screen_name=None, author=User(_api=<tweepy.api.API object at 0x7fa1dded2d50>, _json={'id': 939091, 'id_str': '939091', 'name': 'Joe Biden', 'screen_name': 'JoeBiden', 'location': 'Washington, DC', 'description': 'Husband to @DrBiden, proud father and grandfather. Ready to build back better for all Americans. Official account is @POTUS.', 'url': 'https://t.co/UClrPuJpyZ', 'entities': {'url': {'urls': [{'url': 'https://t.co/UClrPuJpyZ', 'expanded_url': 'http://joebiden.com', 'display_url': 'joebiden.com', 'indices': [0, 23]}]}, 'description': {'urls': []}}, 'protected': False, 'followers_count': 31449554, 'friends_count': 48, 'listed_count': 37420, 'created_at': 'Sun Mar 11 17:51:24 +0000 2007', 'favourites_count': 20, 'utc_offset': None, 'time_zone': None, 'geo_enabled': False, 'verified': True, 'statuses_count': 7629, 'lang': None, 'contributors_enabled': False, 'is_translator': False, 'is_translation_enabled': False, 'profile_background_color': '565959', 'profile_background_image_url': 'http://abs.twimg.com/images/themes/theme1/bg.png', 'profile_background_image_url_https': 'https://abs.twimg.com/images/themes/theme1/bg.png', 'profile_background_tile': True, 'profile_image_url': 'http://pbs.twimg.com/profile_images/1308769664240160770/AfgzWVE7_normal.jpg', 'profile_image_url_https': 'https://pbs.twimg.com/profile_images/1308769664240160770/AfgzWVE7_normal.jpg', 'profile_banner_url': 'https://pbs.twimg.com/profile_banners/939091/1626295479', 'profile_link_color': '233F94', 'profile_sidebar_border_color': 'FFFFFF', 'profile_sidebar_fill_color': 'EBEBFF', 'profile_text_color': '323232', 'profile_use_background_image': True, 'has_extended_profile': False, 'default_profile': False, 'default_profile_image': False, 'following': False, 'follow_request_sent': False, 'notifications': False, 'translator_type': 'none', 'withheld_in_countries': []}, id=939091, id_str='939091', name='Joe Biden', screen_name='JoeBiden', location='Washington, DC', description='Husband to @DrBiden, proud father and grandfather. Ready to build back better for all Americans. Official account is @POTUS.', url='https://t.co/UClrPuJpyZ', entities={'url': {'urls': [{'url': 'https://t.co/UClrPuJpyZ', 'expanded_url': 'http://joebiden.com', 'display_url': 'joebiden.com', 'indices': [0, 23]}]}, 'description': {'urls': []}}, protected=False, followers_count=31449554, friends_count=48, listed_count=37420, created_at=datetime.datetime(2007, 3, 11, 17, 51, 24), favourites_count=20, utc_offset=None, time_zone=None, geo_enabled=False, verified=True, statuses_count=7629, lang=None, contributors_enabled=False, is_translator=False, is_translation_enabled=False, profile_background_color='565959', profile_background_image_url='http://abs.twimg.com/images/themes/theme1/bg.png', profile_background_image_url_https='https://abs.twimg.com/images/themes/theme1/bg.png', profile_background_tile=True, profile_image_url='http://pbs.twimg.com/profile_images/1308769664240160770/AfgzWVE7_normal.jpg', profile_image_url_https='https://pbs.twimg.com/profile_images/1308769664240160770/AfgzWVE7_normal.jpg', profile_banner_url='https://pbs.twimg.com/profile_banners/939091/1626295479', profile_link_color='233F94', profile_sidebar_border_color='FFFFFF', profile_sidebar_fill_color='EBEBFF', profile_text_color='323232', profile_use_background_image=True, has_extended_profile=False, default_profile=False, default_profile_image=False, following=False, follow_request_sent=False, notifications=False, translator_type='none', withheld_in_countries=[]), user=User(_api=<tweepy.api.API object at 0x7fa1dded2d50>, _json={'id': 939091, 'id_str': '939091', 'name': 'Joe Biden', 'screen_name': 'JoeBiden', 'location': 'Washington, DC', 'description': 'Husband to @DrBiden, proud father and grandfather. Ready to build back better for all Americans. Official account is @POTUS.', 'url': 'https://t.co/UClrPuJpyZ', 'entities': {'url': {'urls': [{'url': 'https://t.co/UClrPuJpyZ', 'expanded_url': 'http://joebiden.com', 'display_url': 'joebiden.com', 'indices': [0, 23]}]}, 'description': {'urls': []}}, 'protected': False, 'followers_count': 31449554, 'friends_count': 48, 'listed_count': 37420, 'created_at': 'Sun Mar 11 17:51:24 +0000 2007', 'favourites_count': 20, 'utc_offset': None, 'time_zone': None, 'geo_enabled': False, 'verified': True, 'statuses_count': 7629, 'lang': None, 'contributors_enabled': False, 'is_translator': False, 'is_translation_enabled': False, 'profile_background_color': '565959', 'profile_background_image_url': 'http://abs.twimg.com/images/themes/theme1/bg.png', 'profile_background_image_url_https': 'https://abs.twimg.com/images/themes/theme1/bg.png', 'profile_background_tile': True, 'profile_image_url': 'http://pbs.twimg.com/profile_images/1308769664240160770/AfgzWVE7_normal.jpg', 'profile_image_url_https': 'https://pbs.twimg.com/profile_images/1308769664240160770/AfgzWVE7_normal.jpg', 'profile_banner_url': 'https://pbs.twimg.com/profile_banners/939091/1626295479', 'profile_link_color': '233F94', 'profile_sidebar_border_color': 'FFFFFF', 'profile_sidebar_fill_color': 'EBEBFF', 'profile_text_color': '323232', 'profile_use_background_image': True, 'has_extended_profile': False, 'default_profile': False, 'default_profile_image': False, 'following': False, 'follow_request_sent': False, 'notifications': False, 'translator_type': 'none', 'withheld_in_countries': []}, id=939091, id_str='939091', name='Joe Biden', screen_name='JoeBiden', location='Washington, DC', description='Husband to @DrBiden, proud father and grandfather. Ready to build back better for all Americans. Official account is @POTUS.', url='https://t.co/UClrPuJpyZ', entities={'url': {'urls': [{'url': 'https://t.co/UClrPuJpyZ', 'expanded_url': 'http://joebiden.com', 'display_url': 'joebiden.com', 'indices': [0, 23]}]}, 'description': {'urls': []}}, protected=False, followers_count=31449554, friends_count=48, listed_count=37420, created_at=datetime.datetime(2007, 3, 11, 17, 51, 24), favourites_count=20, utc_offset=None, time_zone=None, geo_enabled=False, verified=True, statuses_count=7629, lang=None, contributors_enabled=False, is_translator=False, is_translation_enabled=False, profile_background_color='565959', profile_background_image_url='http://abs.twimg.com/images/themes/theme1/bg.png', profile_background_image_url_https='https://abs.twimg.com/images/themes/theme1/bg.png', profile_background_tile=True, profile_image_url='http://pbs.twimg.com/profile_images/1308769664240160770/AfgzWVE7_normal.jpg', profile_image_url_https='https://pbs.twimg.com/profile_images/1308769664240160770/AfgzWVE7_normal.jpg', profile_banner_url='https://pbs.twimg.com/profile_banners/939091/1626295479', profile_link_color='233F94', profile_sidebar_border_color='FFFFFF', profile_sidebar_fill_color='EBEBFF', profile_text_color='323232', profile_use_background_image=True, has_extended_profile=False, default_profile=False, default_profile_image=False, following=False, follow_request_sent=False, notifications=False, translator_type='none', withheld_in_countries=[]), geo=None, coordinates=None, place=None, contributors=None, is_quote_status=False, retweet_count=2683, favorite_count=17780, favorited=False, retweeted=False, lang='en'),\n",
       " Status(_api=<tweepy.api.API object at 0x7fa1dded2d50>, _json={'created_at': 'Mon Oct 18 18:36:05 +0000 2021', 'id': 1450168825790541830, 'id_str': '1450168825790541830', 'full_text': 'RT @POTUS: Jill and I are deeply saddened by the passing of our dear friend and a patriot of unmatched honor and dignity, General Colin Pow…', 'truncated': False, 'display_text_range': [0, 140], 'entities': {'hashtags': [], 'symbols': [], 'user_mentions': [{'screen_name': 'POTUS', 'name': 'President Biden', 'id': 1349149096909668363, 'id_str': '1349149096909668363', 'indices': [3, 9]}], 'urls': []}, 'source': '<a href=\"https://mobile.twitter.com\" rel=\"nofollow\">Twitter Web App</a>', 'in_reply_to_status_id': None, 'in_reply_to_status_id_str': None, 'in_reply_to_user_id': None, 'in_reply_to_user_id_str': None, 'in_reply_to_screen_name': None, 'user': {'id': 939091, 'id_str': '939091', 'name': 'Joe Biden', 'screen_name': 'JoeBiden', 'location': 'Washington, DC', 'description': 'Husband to @DrBiden, proud father and grandfather. Ready to build back better for all Americans. Official account is @POTUS.', 'url': 'https://t.co/UClrPuJpyZ', 'entities': {'url': {'urls': [{'url': 'https://t.co/UClrPuJpyZ', 'expanded_url': 'http://joebiden.com', 'display_url': 'joebiden.com', 'indices': [0, 23]}]}, 'description': {'urls': []}}, 'protected': False, 'followers_count': 31449554, 'friends_count': 48, 'listed_count': 37420, 'created_at': 'Sun Mar 11 17:51:24 +0000 2007', 'favourites_count': 20, 'utc_offset': None, 'time_zone': None, 'geo_enabled': False, 'verified': True, 'statuses_count': 7629, 'lang': None, 'contributors_enabled': False, 'is_translator': False, 'is_translation_enabled': False, 'profile_background_color': '565959', 'profile_background_image_url': 'http://abs.twimg.com/images/themes/theme1/bg.png', 'profile_background_image_url_https': 'https://abs.twimg.com/images/themes/theme1/bg.png', 'profile_background_tile': True, 'profile_image_url': 'http://pbs.twimg.com/profile_images/1308769664240160770/AfgzWVE7_normal.jpg', 'profile_image_url_https': 'https://pbs.twimg.com/profile_images/1308769664240160770/AfgzWVE7_normal.jpg', 'profile_banner_url': 'https://pbs.twimg.com/profile_banners/939091/1626295479', 'profile_link_color': '233F94', 'profile_sidebar_border_color': 'FFFFFF', 'profile_sidebar_fill_color': 'EBEBFF', 'profile_text_color': '323232', 'profile_use_background_image': True, 'has_extended_profile': False, 'default_profile': False, 'default_profile_image': False, 'following': False, 'follow_request_sent': False, 'notifications': False, 'translator_type': 'none', 'withheld_in_countries': []}, 'geo': None, 'coordinates': None, 'place': None, 'contributors': None, 'retweeted_status': {'created_at': 'Mon Oct 18 18:31:54 +0000 2021', 'id': 1450167773401866245, 'id_str': '1450167773401866245', 'full_text': 'Jill and I are deeply saddened by the passing of our dear friend and a patriot of unmatched honor and dignity, General Colin Powell. Time and again, he put country before self, before party, before all else—in uniform and out. He will be remembered as one of our great Americans.', 'truncated': False, 'display_text_range': [0, 279], 'entities': {'hashtags': [], 'symbols': [], 'user_mentions': [], 'urls': []}, 'source': '<a href=\"https://www.sprinklr.com\" rel=\"nofollow\">The White House</a>', 'in_reply_to_status_id': None, 'in_reply_to_status_id_str': None, 'in_reply_to_user_id': None, 'in_reply_to_user_id_str': None, 'in_reply_to_screen_name': None, 'user': {'id': 1349149096909668363, 'id_str': '1349149096909668363', 'name': 'President Biden', 'screen_name': 'POTUS', 'location': '', 'description': '46th President of the United States, husband to @FLOTUS, proud dad & pop. Tweets may be archived: https://t.co/IURuMIrzxb', 'url': 'https://t.co/IxLjEB2zlE', 'entities': {'url': {'urls': [{'url': 'https://t.co/IxLjEB2zlE', 'expanded_url': 'http://WhiteHouse.gov', 'display_url': 'WhiteHouse.gov', 'indices': [0, 23]}]}, 'description': {'urls': [{'url': 'https://t.co/IURuMIrzxb', 'expanded_url': 'http://whitehouse.gov/privacy', 'display_url': 'whitehouse.gov/privacy', 'indices': [98, 121]}]}}, 'protected': False, 'followers_count': 14513661, 'friends_count': 12, 'listed_count': 13758, 'created_at': 'Wed Jan 13 00:37:08 +0000 2021', 'favourites_count': 0, 'utc_offset': None, 'time_zone': None, 'geo_enabled': False, 'verified': True, 'statuses_count': 1720, 'lang': None, 'contributors_enabled': False, 'is_translator': False, 'is_translation_enabled': False, 'profile_background_color': 'F5F8FA', 'profile_background_image_url': None, 'profile_background_image_url_https': None, 'profile_background_tile': False, 'profile_image_url': 'http://pbs.twimg.com/profile_images/1380530524779859970/TfwVAbyX_normal.jpg', 'profile_image_url_https': 'https://pbs.twimg.com/profile_images/1380530524779859970/TfwVAbyX_normal.jpg', 'profile_banner_url': 'https://pbs.twimg.com/profile_banners/1349149096909668363/1628476962', 'profile_link_color': '1DA1F2', 'profile_sidebar_border_color': 'C0DEED', 'profile_sidebar_fill_color': 'DDEEF6', 'profile_text_color': '333333', 'profile_use_background_image': True, 'has_extended_profile': True, 'default_profile': True, 'default_profile_image': False, 'following': False, 'follow_request_sent': False, 'notifications': False, 'translator_type': 'none', 'withheld_in_countries': []}, 'geo': None, 'coordinates': None, 'place': None, 'contributors': None, 'is_quote_status': False, 'retweet_count': 6526, 'favorite_count': 57000, 'favorited': False, 'retweeted': False, 'lang': 'en'}, 'is_quote_status': False, 'retweet_count': 6526, 'favorite_count': 0, 'favorited': False, 'retweeted': False, 'lang': 'en'}, created_at=datetime.datetime(2021, 10, 18, 18, 36, 5), id=1450168825790541830, id_str='1450168825790541830', full_text='RT @POTUS: Jill and I are deeply saddened by the passing of our dear friend and a patriot of unmatched honor and dignity, General Colin Pow…', truncated=False, display_text_range=[0, 140], entities={'hashtags': [], 'symbols': [], 'user_mentions': [{'screen_name': 'POTUS', 'name': 'President Biden', 'id': 1349149096909668363, 'id_str': '1349149096909668363', 'indices': [3, 9]}], 'urls': []}, source='Twitter Web App', source_url='https://mobile.twitter.com', in_reply_to_status_id=None, in_reply_to_status_id_str=None, in_reply_to_user_id=None, in_reply_to_user_id_str=None, in_reply_to_screen_name=None, author=User(_api=<tweepy.api.API object at 0x7fa1dded2d50>, _json={'id': 939091, 'id_str': '939091', 'name': 'Joe Biden', 'screen_name': 'JoeBiden', 'location': 'Washington, DC', 'description': 'Husband to @DrBiden, proud father and grandfather. Ready to build back better for all Americans. Official account is @POTUS.', 'url': 'https://t.co/UClrPuJpyZ', 'entities': {'url': {'urls': [{'url': 'https://t.co/UClrPuJpyZ', 'expanded_url': 'http://joebiden.com', 'display_url': 'joebiden.com', 'indices': [0, 23]}]}, 'description': {'urls': []}}, 'protected': False, 'followers_count': 31449554, 'friends_count': 48, 'listed_count': 37420, 'created_at': 'Sun Mar 11 17:51:24 +0000 2007', 'favourites_count': 20, 'utc_offset': None, 'time_zone': None, 'geo_enabled': False, 'verified': True, 'statuses_count': 7629, 'lang': None, 'contributors_enabled': False, 'is_translator': False, 'is_translation_enabled': False, 'profile_background_color': '565959', 'profile_background_image_url': 'http://abs.twimg.com/images/themes/theme1/bg.png', 'profile_background_image_url_https': 'https://abs.twimg.com/images/themes/theme1/bg.png', 'profile_background_tile': True, 'profile_image_url': 'http://pbs.twimg.com/profile_images/1308769664240160770/AfgzWVE7_normal.jpg', 'profile_image_url_https': 'https://pbs.twimg.com/profile_images/1308769664240160770/AfgzWVE7_normal.jpg', 'profile_banner_url': 'https://pbs.twimg.com/profile_banners/939091/1626295479', 'profile_link_color': '233F94', 'profile_sidebar_border_color': 'FFFFFF', 'profile_sidebar_fill_color': 'EBEBFF', 'profile_text_color': '323232', 'profile_use_background_image': True, 'has_extended_profile': False, 'default_profile': False, 'default_profile_image': False, 'following': False, 'follow_request_sent': False, 'notifications': False, 'translator_type': 'none', 'withheld_in_countries': []}, id=939091, id_str='939091', name='Joe Biden', screen_name='JoeBiden', location='Washington, DC', description='Husband to @DrBiden, proud father and grandfather. Ready to build back better for all Americans. Official account is @POTUS.', url='https://t.co/UClrPuJpyZ', entities={'url': {'urls': [{'url': 'https://t.co/UClrPuJpyZ', 'expanded_url': 'http://joebiden.com', 'display_url': 'joebiden.com', 'indices': [0, 23]}]}, 'description': {'urls': []}}, protected=False, followers_count=31449554, friends_count=48, listed_count=37420, created_at=datetime.datetime(2007, 3, 11, 17, 51, 24), favourites_count=20, utc_offset=None, time_zone=None, geo_enabled=False, verified=True, statuses_count=7629, lang=None, contributors_enabled=False, is_translator=False, is_translation_enabled=False, profile_background_color='565959', profile_background_image_url='http://abs.twimg.com/images/themes/theme1/bg.png', profile_background_image_url_https='https://abs.twimg.com/images/themes/theme1/bg.png', profile_background_tile=True, profile_image_url='http://pbs.twimg.com/profile_images/1308769664240160770/AfgzWVE7_normal.jpg', profile_image_url_https='https://pbs.twimg.com/profile_images/1308769664240160770/AfgzWVE7_normal.jpg', profile_banner_url='https://pbs.twimg.com/profile_banners/939091/1626295479', profile_link_color='233F94', profile_sidebar_border_color='FFFFFF', profile_sidebar_fill_color='EBEBFF', profile_text_color='323232', profile_use_background_image=True, has_extended_profile=False, default_profile=False, default_profile_image=False, following=False, follow_request_sent=False, notifications=False, translator_type='none', withheld_in_countries=[]), user=User(_api=<tweepy.api.API object at 0x7fa1dded2d50>, _json={'id': 939091, 'id_str': '939091', 'name': 'Joe Biden', 'screen_name': 'JoeBiden', 'location': 'Washington, DC', 'description': 'Husband to @DrBiden, proud father and grandfather. Ready to build back better for all Americans. Official account is @POTUS.', 'url': 'https://t.co/UClrPuJpyZ', 'entities': {'url': {'urls': [{'url': 'https://t.co/UClrPuJpyZ', 'expanded_url': 'http://joebiden.com', 'display_url': 'joebiden.com', 'indices': [0, 23]}]}, 'description': {'urls': []}}, 'protected': False, 'followers_count': 31449554, 'friends_count': 48, 'listed_count': 37420, 'created_at': 'Sun Mar 11 17:51:24 +0000 2007', 'favourites_count': 20, 'utc_offset': None, 'time_zone': None, 'geo_enabled': False, 'verified': True, 'statuses_count': 7629, 'lang': None, 'contributors_enabled': False, 'is_translator': False, 'is_translation_enabled': False, 'profile_background_color': '565959', 'profile_background_image_url': 'http://abs.twimg.com/images/themes/theme1/bg.png', 'profile_background_image_url_https': 'https://abs.twimg.com/images/themes/theme1/bg.png', 'profile_background_tile': True, 'profile_image_url': 'http://pbs.twimg.com/profile_images/1308769664240160770/AfgzWVE7_normal.jpg', 'profile_image_url_https': 'https://pbs.twimg.com/profile_images/1308769664240160770/AfgzWVE7_normal.jpg', 'profile_banner_url': 'https://pbs.twimg.com/profile_banners/939091/1626295479', 'profile_link_color': '233F94', 'profile_sidebar_border_color': 'FFFFFF', 'profile_sidebar_fill_color': 'EBEBFF', 'profile_text_color': '323232', 'profile_use_background_image': True, 'has_extended_profile': False, 'default_profile': False, 'default_profile_image': False, 'following': False, 'follow_request_sent': False, 'notifications': False, 'translator_type': 'none', 'withheld_in_countries': []}, id=939091, id_str='939091', name='Joe Biden', screen_name='JoeBiden', location='Washington, DC', description='Husband to @DrBiden, proud father and grandfather. Ready to build back better for all Americans. Official account is @POTUS.', url='https://t.co/UClrPuJpyZ', entities={'url': {'urls': [{'url': 'https://t.co/UClrPuJpyZ', 'expanded_url': 'http://joebiden.com', 'display_url': 'joebiden.com', 'indices': [0, 23]}]}, 'description': {'urls': []}}, protected=False, followers_count=31449554, friends_count=48, listed_count=37420, created_at=datetime.datetime(2007, 3, 11, 17, 51, 24), favourites_count=20, utc_offset=None, time_zone=None, geo_enabled=False, verified=True, statuses_count=7629, lang=None, contributors_enabled=False, is_translator=False, is_translation_enabled=False, profile_background_color='565959', profile_background_image_url='http://abs.twimg.com/images/themes/theme1/bg.png', profile_background_image_url_https='https://abs.twimg.com/images/themes/theme1/bg.png', profile_background_tile=True, profile_image_url='http://pbs.twimg.com/profile_images/1308769664240160770/AfgzWVE7_normal.jpg', profile_image_url_https='https://pbs.twimg.com/profile_images/1308769664240160770/AfgzWVE7_normal.jpg', profile_banner_url='https://pbs.twimg.com/profile_banners/939091/1626295479', profile_link_color='233F94', profile_sidebar_border_color='FFFFFF', profile_sidebar_fill_color='EBEBFF', profile_text_color='323232', profile_use_background_image=True, has_extended_profile=False, default_profile=False, default_profile_image=False, following=False, follow_request_sent=False, notifications=False, translator_type='none', withheld_in_countries=[]), geo=None, coordinates=None, place=None, contributors=None, retweeted_status=Status(_api=<tweepy.api.API object at 0x7fa1dded2d50>, _json={'created_at': 'Mon Oct 18 18:31:54 +0000 2021', 'id': 1450167773401866245, 'id_str': '1450167773401866245', 'full_text': 'Jill and I are deeply saddened by the passing of our dear friend and a patriot of unmatched honor and dignity, General Colin Powell. Time and again, he put country before self, before party, before all else—in uniform and out. He will be remembered as one of our great Americans.', 'truncated': False, 'display_text_range': [0, 279], 'entities': {'hashtags': [], 'symbols': [], 'user_mentions': [], 'urls': []}, 'source': '<a href=\"https://www.sprinklr.com\" rel=\"nofollow\">The White House</a>', 'in_reply_to_status_id': None, 'in_reply_to_status_id_str': None, 'in_reply_to_user_id': None, 'in_reply_to_user_id_str': None, 'in_reply_to_screen_name': None, 'user': {'id': 1349149096909668363, 'id_str': '1349149096909668363', 'name': 'President Biden', 'screen_name': 'POTUS', 'location': '', 'description': '46th President of the United States, husband to @FLOTUS, proud dad & pop. Tweets may be archived: https://t.co/IURuMIrzxb', 'url': 'https://t.co/IxLjEB2zlE', 'entities': {'url': {'urls': [{'url': 'https://t.co/IxLjEB2zlE', 'expanded_url': 'http://WhiteHouse.gov', 'display_url': 'WhiteHouse.gov', 'indices': [0, 23]}]}, 'description': {'urls': [{'url': 'https://t.co/IURuMIrzxb', 'expanded_url': 'http://whitehouse.gov/privacy', 'display_url': 'whitehouse.gov/privacy', 'indices': [98, 121]}]}}, 'protected': False, 'followers_count': 14513661, 'friends_count': 12, 'listed_count': 13758, 'created_at': 'Wed Jan 13 00:37:08 +0000 2021', 'favourites_count': 0, 'utc_offset': None, 'time_zone': None, 'geo_enabled': False, 'verified': True, 'statuses_count': 1720, 'lang': None, 'contributors_enabled': False, 'is_translator': False, 'is_translation_enabled': False, 'profile_background_color': 'F5F8FA', 'profile_background_image_url': None, 'profile_background_image_url_https': None, 'profile_background_tile': False, 'profile_image_url': 'http://pbs.twimg.com/profile_images/1380530524779859970/TfwVAbyX_normal.jpg', 'profile_image_url_https': 'https://pbs.twimg.com/profile_images/1380530524779859970/TfwVAbyX_normal.jpg', 'profile_banner_url': 'https://pbs.twimg.com/profile_banners/1349149096909668363/1628476962', 'profile_link_color': '1DA1F2', 'profile_sidebar_border_color': 'C0DEED', 'profile_sidebar_fill_color': 'DDEEF6', 'profile_text_color': '333333', 'profile_use_background_image': True, 'has_extended_profile': True, 'default_profile': True, 'default_profile_image': False, 'following': False, 'follow_request_sent': False, 'notifications': False, 'translator_type': 'none', 'withheld_in_countries': []}, 'geo': None, 'coordinates': None, 'place': None, 'contributors': None, 'is_quote_status': False, 'retweet_count': 6526, 'favorite_count': 57000, 'favorited': False, 'retweeted': False, 'lang': 'en'}, created_at=datetime.datetime(2021, 10, 18, 18, 31, 54), id=1450167773401866245, id_str='1450167773401866245', full_text='Jill and I are deeply saddened by the passing of our dear friend and a patriot of unmatched honor and dignity, General Colin Powell. Time and again, he put country before self, before party, before all else—in uniform and out. He will be remembered as one of our great Americans.', truncated=False, display_text_range=[0, 279], entities={'hashtags': [], 'symbols': [], 'user_mentions': [], 'urls': []}, source='The White House', source_url='https://www.sprinklr.com', in_reply_to_status_id=None, in_reply_to_status_id_str=None, in_reply_to_user_id=None, in_reply_to_user_id_str=None, in_reply_to_screen_name=None, author=User(_api=<tweepy.api.API object at 0x7fa1dded2d50>, _json={'id': 1349149096909668363, 'id_str': '1349149096909668363', 'name': 'President Biden', 'screen_name': 'POTUS', 'location': '', 'description': '46th President of the United States, husband to @FLOTUS, proud dad & pop. Tweets may be archived: https://t.co/IURuMIrzxb', 'url': 'https://t.co/IxLjEB2zlE', 'entities': {'url': {'urls': [{'url': 'https://t.co/IxLjEB2zlE', 'expanded_url': 'http://WhiteHouse.gov', 'display_url': 'WhiteHouse.gov', 'indices': [0, 23]}]}, 'description': {'urls': [{'url': 'https://t.co/IURuMIrzxb', 'expanded_url': 'http://whitehouse.gov/privacy', 'display_url': 'whitehouse.gov/privacy', 'indices': [98, 121]}]}}, 'protected': False, 'followers_count': 14513661, 'friends_count': 12, 'listed_count': 13758, 'created_at': 'Wed Jan 13 00:37:08 +0000 2021', 'favourites_count': 0, 'utc_offset': None, 'time_zone': None, 'geo_enabled': False, 'verified': True, 'statuses_count': 1720, 'lang': None, 'contributors_enabled': False, 'is_translator': False, 'is_translation_enabled': False, 'profile_background_color': 'F5F8FA', 'profile_background_image_url': None, 'profile_background_image_url_https': None, 'profile_background_tile': False, 'profile_image_url': 'http://pbs.twimg.com/profile_images/1380530524779859970/TfwVAbyX_normal.jpg', 'profile_image_url_https': 'https://pbs.twimg.com/profile_images/1380530524779859970/TfwVAbyX_normal.jpg', 'profile_banner_url': 'https://pbs.twimg.com/profile_banners/1349149096909668363/1628476962', 'profile_link_color': '1DA1F2', 'profile_sidebar_border_color': 'C0DEED', 'profile_sidebar_fill_color': 'DDEEF6', 'profile_text_color': '333333', 'profile_use_background_image': True, 'has_extended_profile': True, 'default_profile': True, 'default_profile_image': False, 'following': False, 'follow_request_sent': False, 'notifications': False, 'translator_type': 'none', 'withheld_in_countries': []}, id=1349149096909668363, id_str='1349149096909668363', name='President Biden', screen_name='POTUS', location='', description='46th President of the United States, husband to @FLOTUS, proud dad & pop. Tweets may be archived: https://t.co/IURuMIrzxb', url='https://t.co/IxLjEB2zlE', entities={'url': {'urls': [{'url': 'https://t.co/IxLjEB2zlE', 'expanded_url': 'http://WhiteHouse.gov', 'display_url': 'WhiteHouse.gov', 'indices': [0, 23]}]}, 'description': {'urls': [{'url': 'https://t.co/IURuMIrzxb', 'expanded_url': 'http://whitehouse.gov/privacy', 'display_url': 'whitehouse.gov/privacy', 'indices': [98, 121]}]}}, protected=False, followers_count=14513661, friends_count=12, listed_count=13758, created_at=datetime.datetime(2021, 1, 13, 0, 37, 8), favourites_count=0, utc_offset=None, time_zone=None, geo_enabled=False, verified=True, statuses_count=1720, lang=None, contributors_enabled=False, is_translator=False, is_translation_enabled=False, profile_background_color='F5F8FA', profile_background_image_url=None, profile_background_image_url_https=None, profile_background_tile=False, profile_image_url='http://pbs.twimg.com/profile_images/1380530524779859970/TfwVAbyX_normal.jpg', profile_image_url_https='https://pbs.twimg.com/profile_images/1380530524779859970/TfwVAbyX_normal.jpg', profile_banner_url='https://pbs.twimg.com/profile_banners/1349149096909668363/1628476962', profile_link_color='1DA1F2', profile_sidebar_border_color='C0DEED', profile_sidebar_fill_color='DDEEF6', profile_text_color='333333', profile_use_background_image=True, has_extended_profile=True, default_profile=True, default_profile_image=False, following=False, follow_request_sent=False, notifications=False, translator_type='none', withheld_in_countries=[]), user=User(_api=<tweepy.api.API object at 0x7fa1dded2d50>, _json={'id': 1349149096909668363, 'id_str': '1349149096909668363', 'name': 'President Biden', 'screen_name': 'POTUS', 'location': '', 'description': '46th President of the United States, husband to @FLOTUS, proud dad & pop. Tweets may be archived: https://t.co/IURuMIrzxb', 'url': 'https://t.co/IxLjEB2zlE', 'entities': {'url': {'urls': [{'url': 'https://t.co/IxLjEB2zlE', 'expanded_url': 'http://WhiteHouse.gov', 'display_url': 'WhiteHouse.gov', 'indices': [0, 23]}]}, 'description': {'urls': [{'url': 'https://t.co/IURuMIrzxb', 'expanded_url': 'http://whitehouse.gov/privacy', 'display_url': 'whitehouse.gov/privacy', 'indices': [98, 121]}]}}, 'protected': False, 'followers_count': 14513661, 'friends_count': 12, 'listed_count': 13758, 'created_at': 'Wed Jan 13 00:37:08 +0000 2021', 'favourites_count': 0, 'utc_offset': None, 'time_zone': None, 'geo_enabled': False, 'verified': True, 'statuses_count': 1720, 'lang': None, 'contributors_enabled': False, 'is_translator': False, 'is_translation_enabled': False, 'profile_background_color': 'F5F8FA', 'profile_background_image_url': None, 'profile_background_image_url_https': None, 'profile_background_tile': False, 'profile_image_url': 'http://pbs.twimg.com/profile_images/1380530524779859970/TfwVAbyX_normal.jpg', 'profile_image_url_https': 'https://pbs.twimg.com/profile_images/1380530524779859970/TfwVAbyX_normal.jpg', 'profile_banner_url': 'https://pbs.twimg.com/profile_banners/1349149096909668363/1628476962', 'profile_link_color': '1DA1F2', 'profile_sidebar_border_color': 'C0DEED', 'profile_sidebar_fill_color': 'DDEEF6', 'profile_text_color': '333333', 'profile_use_background_image': True, 'has_extended_profile': True, 'default_profile': True, 'default_profile_image': False, 'following': False, 'follow_request_sent': False, 'notifications': False, 'translator_type': 'none', 'withheld_in_countries': []}, id=1349149096909668363, id_str='1349149096909668363', name='President Biden', screen_name='POTUS', location='', description='46th President of the United States, husband to @FLOTUS, proud dad & pop. Tweets may be archived: https://t.co/IURuMIrzxb', url='https://t.co/IxLjEB2zlE', entities={'url': {'urls': [{'url': 'https://t.co/IxLjEB2zlE', 'expanded_url': 'http://WhiteHouse.gov', 'display_url': 'WhiteHouse.gov', 'indices': [0, 23]}]}, 'description': {'urls': [{'url': 'https://t.co/IURuMIrzxb', 'expanded_url': 'http://whitehouse.gov/privacy', 'display_url': 'whitehouse.gov/privacy', 'indices': [98, 121]}]}}, protected=False, followers_count=14513661, friends_count=12, listed_count=13758, created_at=datetime.datetime(2021, 1, 13, 0, 37, 8), favourites_count=0, utc_offset=None, time_zone=None, geo_enabled=False, verified=True, statuses_count=1720, lang=None, contributors_enabled=False, is_translator=False, is_translation_enabled=False, profile_background_color='F5F8FA', profile_background_image_url=None, profile_background_image_url_https=None, profile_background_tile=False, profile_image_url='http://pbs.twimg.com/profile_images/1380530524779859970/TfwVAbyX_normal.jpg', profile_image_url_https='https://pbs.twimg.com/profile_images/1380530524779859970/TfwVAbyX_normal.jpg', profile_banner_url='https://pbs.twimg.com/profile_banners/1349149096909668363/1628476962', profile_link_color='1DA1F2', profile_sidebar_border_color='C0DEED', profile_sidebar_fill_color='DDEEF6', profile_text_color='333333', profile_use_background_image=True, has_extended_profile=True, default_profile=True, default_profile_image=False, following=False, follow_request_sent=False, notifications=False, translator_type='none', withheld_in_countries=[]), geo=None, coordinates=None, place=None, contributors=None, is_quote_status=False, retweet_count=6526, favorite_count=57000, favorited=False, retweeted=False, lang='en'), is_quote_status=False, retweet_count=6526, favorite_count=0, favorited=False, retweeted=False, lang='en'),\n",
       " Status(_api=<tweepy.api.API object at 0x7fa1dded2d50>, _json={'created_at': 'Mon Oct 18 17:16:01 +0000 2021', 'id': 1450148676899418118, 'id_str': '1450148676899418118', 'full_text': 'Folks, Virginia has an important election coming up on November 2 and we need your help reaching out to voters across the state to get out the vote. Sign up today to join a phone bank: https://t.co/FGrVXHp748', 'truncated': False, 'display_text_range': [0, 208], 'entities': {'hashtags': [], 'symbols': [], 'user_mentions': [], 'urls': [{'url': 'https://t.co/FGrVXHp748', 'expanded_url': 'https://events.democrats.org/event/416729/?utm_source=social-jrb', 'display_url': 'events.democrats.org/event/416729/?…', 'indices': [185, 208]}]}, 'source': '<a href=\"https://sproutsocial.com\" rel=\"nofollow\">Sprout Social</a>', 'in_reply_to_status_id': None, 'in_reply_to_status_id_str': None, 'in_reply_to_user_id': None, 'in_reply_to_user_id_str': None, 'in_reply_to_screen_name': None, 'user': {'id': 939091, 'id_str': '939091', 'name': 'Joe Biden', 'screen_name': 'JoeBiden', 'location': 'Washington, DC', 'description': 'Husband to @DrBiden, proud father and grandfather. Ready to build back better for all Americans. Official account is @POTUS.', 'url': 'https://t.co/UClrPuJpyZ', 'entities': {'url': {'urls': [{'url': 'https://t.co/UClrPuJpyZ', 'expanded_url': 'http://joebiden.com', 'display_url': 'joebiden.com', 'indices': [0, 23]}]}, 'description': {'urls': []}}, 'protected': False, 'followers_count': 31449554, 'friends_count': 48, 'listed_count': 37420, 'created_at': 'Sun Mar 11 17:51:24 +0000 2007', 'favourites_count': 20, 'utc_offset': None, 'time_zone': None, 'geo_enabled': False, 'verified': True, 'statuses_count': 7629, 'lang': None, 'contributors_enabled': False, 'is_translator': False, 'is_translation_enabled': False, 'profile_background_color': '565959', 'profile_background_image_url': 'http://abs.twimg.com/images/themes/theme1/bg.png', 'profile_background_image_url_https': 'https://abs.twimg.com/images/themes/theme1/bg.png', 'profile_background_tile': True, 'profile_image_url': 'http://pbs.twimg.com/profile_images/1308769664240160770/AfgzWVE7_normal.jpg', 'profile_image_url_https': 'https://pbs.twimg.com/profile_images/1308769664240160770/AfgzWVE7_normal.jpg', 'profile_banner_url': 'https://pbs.twimg.com/profile_banners/939091/1626295479', 'profile_link_color': '233F94', 'profile_sidebar_border_color': 'FFFFFF', 'profile_sidebar_fill_color': 'EBEBFF', 'profile_text_color': '323232', 'profile_use_background_image': True, 'has_extended_profile': False, 'default_profile': False, 'default_profile_image': False, 'following': False, 'follow_request_sent': False, 'notifications': False, 'translator_type': 'none', 'withheld_in_countries': []}, 'geo': None, 'coordinates': None, 'place': None, 'contributors': None, 'is_quote_status': False, 'retweet_count': 1948, 'favorite_count': 6678, 'favorited': False, 'retweeted': False, 'possibly_sensitive': False, 'lang': 'en'}, created_at=datetime.datetime(2021, 10, 18, 17, 16, 1), id=1450148676899418118, id_str='1450148676899418118', full_text='Folks, Virginia has an important election coming up on November 2 and we need your help reaching out to voters across the state to get out the vote. Sign up today to join a phone bank: https://t.co/FGrVXHp748', truncated=False, display_text_range=[0, 208], entities={'hashtags': [], 'symbols': [], 'user_mentions': [], 'urls': [{'url': 'https://t.co/FGrVXHp748', 'expanded_url': 'https://events.democrats.org/event/416729/?utm_source=social-jrb', 'display_url': 'events.democrats.org/event/416729/?…', 'indices': [185, 208]}]}, source='Sprout Social', source_url='https://sproutsocial.com', in_reply_to_status_id=None, in_reply_to_status_id_str=None, in_reply_to_user_id=None, in_reply_to_user_id_str=None, in_reply_to_screen_name=None, author=User(_api=<tweepy.api.API object at 0x7fa1dded2d50>, _json={'id': 939091, 'id_str': '939091', 'name': 'Joe Biden', 'screen_name': 'JoeBiden', 'location': 'Washington, DC', 'description': 'Husband to @DrBiden, proud father and grandfather. Ready to build back better for all Americans. Official account is @POTUS.', 'url': 'https://t.co/UClrPuJpyZ', 'entities': {'url': {'urls': [{'url': 'https://t.co/UClrPuJpyZ', 'expanded_url': 'http://joebiden.com', 'display_url': 'joebiden.com', 'indices': [0, 23]}]}, 'description': {'urls': []}}, 'protected': False, 'followers_count': 31449554, 'friends_count': 48, 'listed_count': 37420, 'created_at': 'Sun Mar 11 17:51:24 +0000 2007', 'favourites_count': 20, 'utc_offset': None, 'time_zone': None, 'geo_enabled': False, 'verified': True, 'statuses_count': 7629, 'lang': None, 'contributors_enabled': False, 'is_translator': False, 'is_translation_enabled': False, 'profile_background_color': '565959', 'profile_background_image_url': 'http://abs.twimg.com/images/themes/theme1/bg.png', 'profile_background_image_url_https': 'https://abs.twimg.com/images/themes/theme1/bg.png', 'profile_background_tile': True, 'profile_image_url': 'http://pbs.twimg.com/profile_images/1308769664240160770/AfgzWVE7_normal.jpg', 'profile_image_url_https': 'https://pbs.twimg.com/profile_images/1308769664240160770/AfgzWVE7_normal.jpg', 'profile_banner_url': 'https://pbs.twimg.com/profile_banners/939091/1626295479', 'profile_link_color': '233F94', 'profile_sidebar_border_color': 'FFFFFF', 'profile_sidebar_fill_color': 'EBEBFF', 'profile_text_color': '323232', 'profile_use_background_image': True, 'has_extended_profile': False, 'default_profile': False, 'default_profile_image': False, 'following': False, 'follow_request_sent': False, 'notifications': False, 'translator_type': 'none', 'withheld_in_countries': []}, id=939091, id_str='939091', name='Joe Biden', screen_name='JoeBiden', location='Washington, DC', description='Husband to @DrBiden, proud father and grandfather. Ready to build back better for all Americans. Official account is @POTUS.', url='https://t.co/UClrPuJpyZ', entities={'url': {'urls': [{'url': 'https://t.co/UClrPuJpyZ', 'expanded_url': 'http://joebiden.com', 'display_url': 'joebiden.com', 'indices': [0, 23]}]}, 'description': {'urls': []}}, protected=False, followers_count=31449554, friends_count=48, listed_count=37420, created_at=datetime.datetime(2007, 3, 11, 17, 51, 24), favourites_count=20, utc_offset=None, time_zone=None, geo_enabled=False, verified=True, statuses_count=7629, lang=None, contributors_enabled=False, is_translator=False, is_translation_enabled=False, profile_background_color='565959', profile_background_image_url='http://abs.twimg.com/images/themes/theme1/bg.png', profile_background_image_url_https='https://abs.twimg.com/images/themes/theme1/bg.png', profile_background_tile=True, profile_image_url='http://pbs.twimg.com/profile_images/1308769664240160770/AfgzWVE7_normal.jpg', profile_image_url_https='https://pbs.twimg.com/profile_images/1308769664240160770/AfgzWVE7_normal.jpg', profile_banner_url='https://pbs.twimg.com/profile_banners/939091/1626295479', profile_link_color='233F94', profile_sidebar_border_color='FFFFFF', profile_sidebar_fill_color='EBEBFF', profile_text_color='323232', profile_use_background_image=True, has_extended_profile=False, default_profile=False, default_profile_image=False, following=False, follow_request_sent=False, notifications=False, translator_type='none', withheld_in_countries=[]), user=User(_api=<tweepy.api.API object at 0x7fa1dded2d50>, _json={'id': 939091, 'id_str': '939091', 'name': 'Joe Biden', 'screen_name': 'JoeBiden', 'location': 'Washington, DC', 'description': 'Husband to @DrBiden, proud father and grandfather. Ready to build back better for all Americans. Official account is @POTUS.', 'url': 'https://t.co/UClrPuJpyZ', 'entities': {'url': {'urls': [{'url': 'https://t.co/UClrPuJpyZ', 'expanded_url': 'http://joebiden.com', 'display_url': 'joebiden.com', 'indices': [0, 23]}]}, 'description': {'urls': []}}, 'protected': False, 'followers_count': 31449554, 'friends_count': 48, 'listed_count': 37420, 'created_at': 'Sun Mar 11 17:51:24 +0000 2007', 'favourites_count': 20, 'utc_offset': None, 'time_zone': None, 'geo_enabled': False, 'verified': True, 'statuses_count': 7629, 'lang': None, 'contributors_enabled': False, 'is_translator': False, 'is_translation_enabled': False, 'profile_background_color': '565959', 'profile_background_image_url': 'http://abs.twimg.com/images/themes/theme1/bg.png', 'profile_background_image_url_https': 'https://abs.twimg.com/images/themes/theme1/bg.png', 'profile_background_tile': True, 'profile_image_url': 'http://pbs.twimg.com/profile_images/1308769664240160770/AfgzWVE7_normal.jpg', 'profile_image_url_https': 'https://pbs.twimg.com/profile_images/1308769664240160770/AfgzWVE7_normal.jpg', 'profile_banner_url': 'https://pbs.twimg.com/profile_banners/939091/1626295479', 'profile_link_color': '233F94', 'profile_sidebar_border_color': 'FFFFFF', 'profile_sidebar_fill_color': 'EBEBFF', 'profile_text_color': '323232', 'profile_use_background_image': True, 'has_extended_profile': False, 'default_profile': False, 'default_profile_image': False, 'following': False, 'follow_request_sent': False, 'notifications': False, 'translator_type': 'none', 'withheld_in_countries': []}, id=939091, id_str='939091', name='Joe Biden', screen_name='JoeBiden', location='Washington, DC', description='Husband to @DrBiden, proud father and grandfather. Ready to build back better for all Americans. Official account is @POTUS.', url='https://t.co/UClrPuJpyZ', entities={'url': {'urls': [{'url': 'https://t.co/UClrPuJpyZ', 'expanded_url': 'http://joebiden.com', 'display_url': 'joebiden.com', 'indices': [0, 23]}]}, 'description': {'urls': []}}, protected=False, followers_count=31449554, friends_count=48, listed_count=37420, created_at=datetime.datetime(2007, 3, 11, 17, 51, 24), favourites_count=20, utc_offset=None, time_zone=None, geo_enabled=False, verified=True, statuses_count=7629, lang=None, contributors_enabled=False, is_translator=False, is_translation_enabled=False, profile_background_color='565959', profile_background_image_url='http://abs.twimg.com/images/themes/theme1/bg.png', profile_background_image_url_https='https://abs.twimg.com/images/themes/theme1/bg.png', profile_background_tile=True, profile_image_url='http://pbs.twimg.com/profile_images/1308769664240160770/AfgzWVE7_normal.jpg', profile_image_url_https='https://pbs.twimg.com/profile_images/1308769664240160770/AfgzWVE7_normal.jpg', profile_banner_url='https://pbs.twimg.com/profile_banners/939091/1626295479', profile_link_color='233F94', profile_sidebar_border_color='FFFFFF', profile_sidebar_fill_color='EBEBFF', profile_text_color='323232', profile_use_background_image=True, has_extended_profile=False, default_profile=False, default_profile_image=False, following=False, follow_request_sent=False, notifications=False, translator_type='none', withheld_in_countries=[]), geo=None, coordinates=None, place=None, contributors=None, is_quote_status=False, retweet_count=1948, favorite_count=6678, favorited=False, retweeted=False, possibly_sensitive=False, lang='en')]"
      ]
     },
     "execution_count": 8,
     "metadata": {},
     "output_type": "execute_result"
    }
   ],
   "source": [
    "#Veamos la lista con los primeros 5 objetos de tweepy\n",
    "all_tweets_biden[:5]"
   ]
  },
  {
   "cell_type": "code",
   "execution_count": null,
   "metadata": {},
   "outputs": [],
   "source": [
    "# Veamos un solo tweet \n",
    "all_tweets_biden[8]"
   ]
  },
  {
   "cell_type": "code",
   "execution_count": null,
   "metadata": {},
   "outputs": [],
   "source": [
    "# Veamos el texto de un solo tweet \n",
    "all_tweets_biden[8].full_text"
   ]
  },
  {
   "cell_type": "markdown",
   "metadata": {},
   "source": [
    "#### Ejercicio 1: \n",
    "En la siguiente función construyan un loop que extraiga id_str, created_at, full_text, retweeted,  favorite_count, in_reply_to_screen_name de cada tweet y lo guarde en una lista. Esa lista se debe agregar al final de la lista all_tweets_selection para luego construir un df con la lista de listas (las listas internas serán las filas del df). "
   ]
  },
  {
   "cell_type": "code",
   "execution_count": null,
   "metadata": {},
   "outputs": [],
   "source": [
    "def save_tweets_text(all_tweets, csv_file=None):\n",
    "    '''\n",
    "    Esta función guarda los tweets en un data frame y si se especifica un \n",
    "    archivo csv tambien se guardaran ahí \n",
    "    Input:\n",
    "        all_tweets (lista): lista con tweets y sus datos\n",
    "        csv_file ('str'): nombre del archivo csv\n",
    "    Output:\n",
    "        df_all_tweets (df): tweets ordenados en una tabla con datos seleccinados\n",
    "    '''\n",
    "    all_tweets_selection = []\n",
    "    \n",
    "    # Su Código acá:\n",
    "    \n",
    "    # Hasta acá su código    \n",
    "    df_all_tweets = pd.DataFrame(all_tweets_selection)\n",
    "    df_all_tweets.columns = ['id_str', 'created_at', 'text', 'retweeted',\n",
    "                            'favorite_count', 'in_reply_to_screen_name']\n",
    "    if csv_file:\n",
    "        df_all_tweets.to_csv(csv_file, index=False, encoding=\"utf-8\")\n",
    "\n",
    "    return df_all_tweets"
   ]
  },
  {
   "cell_type": "markdown",
   "metadata": {},
   "source": [
    "#### Ejercicio 1b: \n",
    "Utilicen la función save_tweets_text para construir una tabla con todos los tweets y guardenlo en una archivo llamado \"tweets.csv\". Por ultimo visualicen algunas filas de la tabla. "
   ]
  },
  {
   "cell_type": "code",
   "execution_count": null,
   "metadata": {},
   "outputs": [],
   "source": []
  },
  {
   "cell_type": "markdown",
   "metadata": {},
   "source": [
    " #### Ejercicio 1b: \n",
    " Hagan print del texto de algunos tweets y luego piensen:\n",
    " \n",
    " 1) Les parece que podríamos hacer un análisis de sentimiento de estos tweets como están?\n",
    " \n",
    " 2) Porque?\n",
    " \n",
    " 3) Que errores creen que podriamos tener al trabajar con el texto tal como lo descargamos de twitter?\n",
    " \n",
    " 4) Que transformaciones le harían al texto antes de meterlo en el análisis (mencionen al menos 5 cosas)"
   ]
  },
  {
   "cell_type": "code",
   "execution_count": null,
   "metadata": {},
   "outputs": [],
   "source": [
    "# Emoticones contentos\n",
    "emoticons_happy = set([\n",
    "    ':-)', ':)', ';)', ':o)', ':]', ':3', ':c)', ':>', '=]', '8)', '=)', ':}',\n",
    "    ':^)', ':-D', ':D', '8-D', '8D', 'x-D', 'xD', 'X-D', 'XD', '=-D', '=D',\n",
    "    '=-3', '=3', ':-))', \":'-)\", \":')\", ':*', ':^*', '>:P', ':-P', ':P', 'X-P',\n",
    "    'x-p', 'xp', 'XP', ':-p', ':p', '=p', ':-b', ':b', '>:)', '>;)', '>:-)',\n",
    "    '<3'\n",
    "    ])\n",
    " \n",
    "# Emoticones Tristes\n",
    "emoticons_sad = set([\n",
    "    ':L', ':-/', '>:/', ':S', '>:[', ':@', ':-(', ':[', ':-||', '=L', ':<',\n",
    "    ':-[', ':-<', '=\\\\', '=/', '>:(', ':(', '>.<', \":'-(\", \":'(\", ':\\\\', ':-c',\n",
    "    ':c', ':{', '>:\\\\', ';('\n",
    "    ])\n",
    "\n",
    "# Combinamos emoticones contentos y tristes\n",
    "emoticons = emoticons_happy.union(emoticons_sad)"
   ]
  },
  {
   "cell_type": "code",
   "execution_count": null,
   "metadata": {},
   "outputs": [],
   "source": [
    "#Emoji patterns\n",
    "emoji_pattern = re.compile(\"[\"\n",
    "                           u\"\\U0001F600-\\U0001F64F\"  # emoticons\n",
    "                           u\"\\U0001F300-\\U0001F5FF\"  # simbolos & pictogramas\n",
    "                           u\"\\U0001F680-\\U0001F6FF\"  # transporte & simbolos mapas\n",
    "                           u\"\\U0001F1E0-\\U0001F1FF\"  # banderas (iOS)\n",
    "                           u\"\\U00002702-\\U000027B0\"\n",
    "                           u\"\\U000024C2-\\U0001F251\"\n",
    "                           \"]+\", flags=re.UNICODE)\n"
   ]
  },
  {
   "cell_type": "code",
   "execution_count": null,
   "metadata": {},
   "outputs": [],
   "source": [
    "def clean_tweet(tweet):\n",
    "    '''\n",
    "    Esta función limpia el texto de un tweet. Elimina caracteres especificos que\n",
    "    se utilizan en twitter como los de re-tweets, los links y otros Non-ASCII.\n",
    "    Devuelve el texto \"limpio\".\n",
    "    Input:\n",
    "        tweet (str): Texto del tweet original\n",
    "    Output:\n",
    "        tweet (str): Texto del tweet limpiado\n",
    "    '''   \n",
    "    #Saco los links\n",
    "    tweet = re.sub(r'https.*', '', tweet)\n",
    "    #Elimino caracteres de re-tweets   \n",
    "    tweet = re.sub(r'^RT .*:', '', tweet)\n",
    "    tweet = re.sub(r'@\\S+', '', tweet)\n",
    "    tweet = re.sub(r':', '', tweet)\n",
    "    tweet = re.sub(r'‚Ä¶', '', tweet)\n",
    "    #Reemplazo caracteres non-ASCII con espacio\n",
    "    tweet = re.sub(r'[^\\x00-\\x7F]+',' ', tweet)\n",
    "    \n",
    "    return tweet\n",
    "    "
   ]
  },
  {
   "cell_type": "code",
   "execution_count": null,
   "metadata": {},
   "outputs": [],
   "source": [
    "#Este es un tweet sucio:\n",
    "df_all_tweets['text'][1]"
   ]
  },
  {
   "cell_type": "code",
   "execution_count": null,
   "metadata": {},
   "outputs": [],
   "source": [
    "#Este es un tweet limpio:\n",
    "tweet_cleaned = clean_tweet(df_all_tweets.iloc[1]['text'])\n",
    "tweet_cleaned"
   ]
  },
  {
   "cell_type": "markdown",
   "metadata": {},
   "source": [
    "#### Análisis de Sentimiento\n",
    "https://textblob.readthedocs.io/en/dev/api_reference.html#module-textblob.en.sentiments\n",
    "- Polarity: Negative (-1.0) vs. Positive (1.0)\n",
    "- Subjectivity: Objective (0.0) vs. Subjective (1.0)"
   ]
  },
  {
   "cell_type": "code",
   "execution_count": null,
   "metadata": {},
   "outputs": [],
   "source": [
    "# Calculamos el sentimiento con el metodo TextBlob\n",
    "blob = TextBlob(tweet_cleaned)\n",
    "Sentiment = blob.sentiment\n",
    "polarity = Sentiment.polarity\n",
    "subjectivity = Sentiment.subjectivity  \n",
    "print(\"La polaridad de este tweet es :\", polarity)"
   ]
  },
  {
   "cell_type": "markdown",
   "metadata": {},
   "source": [
    "#### Ejercicio 2:\n",
    "Construyamos un loop que nos permita limpiar todos los strings y concatenarlos. Al tenerlos todos concatenados será más facil utilizarlos en un grafico, como por ejemplo una nube de pablabras "
   ]
  },
  {
   "cell_type": "code",
   "execution_count": null,
   "metadata": {},
   "outputs": [],
   "source": [
    "\n"
   ]
  },
  {
   "cell_type": "code",
   "execution_count": null,
   "metadata": {},
   "outputs": [],
   "source": [
    "# Generamos una imagen de nube de palabras \n",
    "# wordcloud = WordCloud().generate(all_tweets_cleaned)\n",
    "\n",
    "wordcloud = WordCloud().generate(all_tweets) #prueben incluir: max_font_size=40\n",
    "plt.figure(figsize=(12,9))\n",
    "plt.imshow(wordcloud, interpolation=\"bilinear\")\n",
    "plt.axis(\"off\")\n",
    "plt.show()\n",
    "\n",
    "\n",
    "wordcloud = WordCloud(background_color = 'white', stopwords = stopwords.words('english')).generate(all_tweets_cleaned)\n",
    "plt.figure(figsize=(12,9))\n",
    "plt.imshow(wordcloud, interpolation=\"bilinear\")\n",
    "plt.axis(\"off\")\n",
    "plt.show()\n",
    "\n"
   ]
  },
  {
   "cell_type": "code",
   "execution_count": null,
   "metadata": {},
   "outputs": [],
   "source": [
    "with Image.open('upvote.png') as im:\n",
    "    im.rotate(45).show()"
   ]
  },
  {
   "cell_type": "code",
   "execution_count": null,
   "metadata": {},
   "outputs": [],
   "source": [
    "# Import image to np.array\n",
    "mask = np.array(Image.open('upvote.png'))\n",
    "\n",
    "# Generate wordcloud\n",
    "wordcloud = WordCloud(width = 3000, height = 2000, background_color='white', \n",
    "                      collocations=False, stopwords = stopwords.words('english'), \n",
    "                      mask=mask).generate(all_tweets_cleaned)\n",
    "\n",
    "plt.figure(figsize=(40, 30))\n",
    "plt.imshow(wordcloud) \n",
    "plt.axis(\"off\")"
   ]
  },
  {
   "cell_type": "markdown",
   "metadata": {},
   "source": [
    "Nota: La imagen del dedo la tomé como idea de este blog https://towardsdatascience.com/simple-wordcloud-in-python-2ae54a9f58e5"
   ]
  },
  {
   "cell_type": "markdown",
   "metadata": {},
   "source": [
    "#### Ejercicio 3:\n",
    "Creen una función que limpie texto en general. Elimina emoticones, emojis, palabras vacías (también llamadas stop words en la libreria de nltk), links, puntuaciones, indicaciones de retweets, etc. Esta función dejara el texto limpio y solo con las palabras que pueden agregar mayor valor para el análisis."
   ]
  },
  {
   "cell_type": "code",
   "execution_count": null,
   "metadata": {},
   "outputs": [],
   "source": [
    "def clean_text(text, is_tweet=False):\n",
    "    '''\n",
    "    Esta función limpia el texto del tweet. Elimina emoticones, emojis, palabras\n",
    "    vacías (también llamadas stop words en la libreria de nltk), links, puntuaciones\n",
    "    indicaciones de retweets, etc. Para dejar en el texto solo las palabras con \n",
    "    mayor contenido.\n",
    "    Input:\n",
    "        text (str): Texto original\n",
    "        is_tweet (bool): si el texto es un tweet este parametro debe setearse a \n",
    "                         true para que también se limpie el texto con los \n",
    "                         caracteres más especificos de twitter (usa clean_tweet) \n",
    "    Output:\n",
    "        text (str): Texto limpiado\n",
    "    '''\n"
   ]
  },
  {
   "cell_type": "code",
   "execution_count": null,
   "metadata": {},
   "outputs": [],
   "source": [
    "df_all_tweets['text'][1]"
   ]
  },
  {
   "cell_type": "code",
   "execution_count": null,
   "metadata": {},
   "outputs": [],
   "source": [
    "clean_text(df_all_tweets['text'][1], is_tweet=True)"
   ]
  }
 ],
 "metadata": {
  "kernelspec": {
   "display_name": "Python 3",
   "language": "python",
   "name": "python3"
  },
  "language_info": {
   "codemirror_mode": {
    "name": "ipython",
    "version": 3
   },
   "file_extension": ".py",
   "mimetype": "text/x-python",
   "name": "python",
   "nbconvert_exporter": "python",
   "pygments_lexer": "ipython3",
   "version": "3.7.6"
  }
 },
 "nbformat": 4,
 "nbformat_minor": 2
}
