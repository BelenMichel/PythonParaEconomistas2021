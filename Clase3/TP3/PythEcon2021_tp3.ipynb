{
 "cells": [
  {
   "cell_type": "markdown",
   "metadata": {},
   "source": [
    "## Curso Python para Economistas\n",
    "### Trabajo Práctico 3"
   ]
  },
  {
   "cell_type": "markdown",
   "metadata": {},
   "source": [
    "### Fecha de entrega:\n",
    "Jueves 14/10 a las 18:00 hs"
   ]
  },
  {
   "cell_type": "markdown",
   "metadata": {},
   "source": [
    "### Modalidad de entrega y trabajo\n",
    "- Trabajo individual\n",
    "- Se debe entregar por via de un repositorio privado de GitHub, al cual se le debe habilitar acceso a los 5 profesores."
   ]
  },
  {
   "cell_type": "markdown",
   "metadata": {},
   "source": [
    "### Ejercicios"
   ]
  },
  {
   "cell_type": "markdown",
   "metadata": {},
   "source": [
    "_Nota: recuerden que su código debe estar comentado dónde corresponda. Además los gráficos deben ser prolijos, con títulos en cada eje, título principal y tick labels legibles._"
   ]
  },
  {
   "cell_type": "markdown",
   "metadata": {
    "id": "EcNl9ORpsP9e"
   },
   "source": [
    "**(1)** Vamos a trabajar con el archivo \"potencia_instalada_mod.csv\". (_Nota: van a tener que definir el parametro encoding='latin1')_. Abrirlo y crear una dataframe que tenga las siguientes columnas:  \n",
    "- periodo  \n",
    "- agente  \n",
    "- agente_descripcion  \n",
    "- region  \n",
    "- categoria_region  \n",
    "- fuente_generacion  \n",
    "- tecnologia  \n",
    "- potencia_instalada_mw  \n",
    "  \n",
    "Y cortar la base para quedarnos únicamente con las primeras 11497 filas."
   ]
  },
  {
   "cell_type": "code",
   "execution_count": null,
   "metadata": {
    "collapsed": true
   },
   "outputs": [],
   "source": []
  },
  {
   "cell_type": "markdown",
   "metadata": {},
   "source": [
    "**(2)** En la clase sincrónica vimos ejemplos de como transformar una columna a formato datetime, y como cambiar el estilo en el que se expresa un registro (convertir 1/10/2020 en 2020-10). Repliquen este ejercicio sobre la columna periodo para crear una columna periodo_limpio. Luego inspeccionen el resultado. Si les dio como esperaban, ejecuten un comando de drop() para eliminar la columna original.\n",
    "  \n",
    "_Nota: buscar documentación online y ejemplos en Stack Overflow puede ser útil_"
   ]
  },
  {
   "cell_type": "code",
   "execution_count": null,
   "metadata": {
    "collapsed": true
   },
   "outputs": [],
   "source": []
  },
  {
   "cell_type": "markdown",
   "metadata": {},
   "source": [
    "**(3)** En la clases asincrónica y sincrónica vimos ejemplos de como agrupar información usando .groupby() y .agg(). Pongámoslo en práctica. Construyan una nueva dataframe (con otro nombre para no pisar la original) dónde el agrupamiento sea a nivel de periodo (la columna nueva) y tecnología. Ordenen la dataframe por fecha, en orden ascendente. Inspeccionen una muestar para ver que el resultado sea el esperado.\n",
    "  "
   ]
  },
  {
   "cell_type": "code",
   "execution_count": null,
   "metadata": {
    "collapsed": true
   },
   "outputs": [],
   "source": []
  },
  {
   "cell_type": "markdown",
   "metadata": {},
   "source": [
    "**(4)** Ahora ejercitemos matplotlib.pyplot, importen la librería y constuyan un gráfico de barras que muestre en el eje x el periodo y en el eje y la potencia instalada para una tecnología de su elección. El título del gráfico debe incluir la tecnología elegida y los ejes deben estar titulados.  \n",
    "  \n",
    "  \n",
    "_Nota: No vimos como armar un gráfico de barras en clase pero la estructura es similar a los ejemplos que si vimos. Parte de este ejercicio es practicar buscar cómo hacerlo en la documentación oficial y/o otros recursos online. Hay una comunidad grande de personas usando Python!_"
   ]
  },
  {
   "cell_type": "code",
   "execution_count": null,
   "metadata": {
    "collapsed": true
   },
   "outputs": [],
   "source": []
  },
  {
   "cell_type": "markdown",
   "metadata": {},
   "source": [
    "**(5)** Para seguir ejercitando matplotlib, construyan una figura con 4 gráficos de la potencia instalada por energía a lo largo el periodo, en una disposición de 2x2. Que por lo menos un gráfico sea de línea y por lo menos un gráfico sea de barra. Los otros dos gráficos pueden ser uno de línea y otro de barra o lo que ustedes quieran probar. Lo importante es practicar graficar y que el gráfico sea razonable. Si quieren que alguno de los gráficos muestre algo distinto de la evolución temporal de la potencia instalada, no hay problema."
   ]
  },
  {
   "cell_type": "code",
   "execution_count": null,
   "metadata": {
    "collapsed": true
   },
   "outputs": [],
   "source": []
  },
  {
   "cell_type": "markdown",
   "metadata": {},
   "source": [
    "**(6)** Armen una figura con un gráfico que combine dos representaciones de datos de su elección. Podría ser combinar un gráfico de barras con uno de líneas, donde el eje vertical izquierdo muestre los valores de uno y el eje vertical derecho muestre los valores del otro. Por ejemplo que en el gráfico las barras muestren la variación de potencia instalada respecto al periodo pasado y una línea muestre la evolución de potencia instalada. _Nota: van a tener que trabajar sobre la dataframe para esto, la función .shift() aplicada a la columna de potencia instalada les puede ser útil como paso intermedio para calcular el crecimiento porcentual_."
   ]
  },
  {
   "cell_type": "code",
   "execution_count": null,
   "metadata": {
    "collapsed": true
   },
   "outputs": [],
   "source": []
  },
  {
   "cell_type": "markdown",
   "metadata": {},
   "source": [
    "**(7)** En este ejercicio les pedimos que busquen en la documentación de matplotlib las diferentes opciones de gráficos disponibles. Armen un gráfico distinto a lo que hayan aplicado en los ejercicios anteriores."
   ]
  },
  {
   "cell_type": "code",
   "execution_count": null,
   "metadata": {
    "collapsed": true
   },
   "outputs": [],
   "source": []
  }
 ],
 "metadata": {
  "anaconda-cloud": {},
  "colab": {
   "name": "Clase 4 - asincronica.ipynb",
   "provenance": []
  },
  "kernelspec": {
   "display_name": "Python [py36]",
   "language": "python",
   "name": "Python [py36]"
  },
  "language_info": {
   "codemirror_mode": {
    "name": "ipython",
    "version": 3
   },
   "file_extension": ".py",
   "mimetype": "text/x-python",
   "name": "python",
   "nbconvert_exporter": "python",
   "pygments_lexer": "ipython3",
   "version": "3.6.5"
  }
 },
 "nbformat": 4,
 "nbformat_minor": 1
}
