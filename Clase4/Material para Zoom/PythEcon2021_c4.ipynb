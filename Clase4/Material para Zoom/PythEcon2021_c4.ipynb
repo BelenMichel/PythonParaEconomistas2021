{
 "cells": [
  {
   "cell_type": "markdown",
   "id": "6e13e8aa",
   "metadata": {},
   "source": [
    "# Clase Nº 4"
   ]
  },
  {
   "cell_type": "markdown",
   "id": "c294e8da",
   "metadata": {},
   "source": [
    "**Plan de la clase:**  \n",
    "**(1)** Devolución TP2 <br>\n",
    "**(2)** Preguntas sobre la clase asincrónica - Revisar el cuestionario. <br>\n",
    "**(3)** Repasar `pandas` y `seaborn` <br>\n",
    "**(4)** Repasar expresiones regulares <br>\n",
    "**(5)** _Fuzzy matching_"
   ]
  },
  {
   "cell_type": "markdown",
   "id": "58e04415",
   "metadata": {},
   "source": [
    "Revisemos la pregunta 3 del cuestionario:"
   ]
  },
  {
   "cell_type": "markdown",
   "id": "39901609",
   "metadata": {},
   "source": [
    "a. "
   ]
  },
  {
   "cell_type": "markdown",
   "id": "14eaaa60",
   "metadata": {},
   "source": [
    "## Pandas y Seaborn"
   ]
  },
  {
   "cell_type": "code",
   "execution_count": 6,
   "id": "1bc0263e",
   "metadata": {
    "collapsed": true
   },
   "outputs": [
    {
     "name": "stderr",
     "output_type": "stream",
     "text": [
      "In /home/rodrigo/anaconda3/lib/python3.7/site-packages/matplotlib/mpl-data/stylelib/_classic_test.mplstyle: \n",
      "The text.latex.preview rcparam was deprecated in Matplotlib 3.3 and will be removed two minor releases later.\n",
      "In /home/rodrigo/anaconda3/lib/python3.7/site-packages/matplotlib/mpl-data/stylelib/_classic_test.mplstyle: \n",
      "The mathtext.fallback_to_cm rcparam was deprecated in Matplotlib 3.3 and will be removed two minor releases later.\n",
      "In /home/rodrigo/anaconda3/lib/python3.7/site-packages/matplotlib/mpl-data/stylelib/_classic_test.mplstyle: Support for setting the 'mathtext.fallback_to_cm' rcParam is deprecated since 3.3 and will be removed two minor releases later; use 'mathtext.fallback : 'cm' instead.\n",
      "In /home/rodrigo/anaconda3/lib/python3.7/site-packages/matplotlib/mpl-data/stylelib/_classic_test.mplstyle: \n",
      "The validate_bool_maybe_none function was deprecated in Matplotlib 3.3 and will be removed two minor releases later.\n",
      "In /home/rodrigo/anaconda3/lib/python3.7/site-packages/matplotlib/mpl-data/stylelib/_classic_test.mplstyle: \n",
      "The savefig.jpeg_quality rcparam was deprecated in Matplotlib 3.3 and will be removed two minor releases later.\n",
      "In /home/rodrigo/anaconda3/lib/python3.7/site-packages/matplotlib/mpl-data/stylelib/_classic_test.mplstyle: \n",
      "The keymap.all_axes rcparam was deprecated in Matplotlib 3.3 and will be removed two minor releases later.\n",
      "In /home/rodrigo/anaconda3/lib/python3.7/site-packages/matplotlib/mpl-data/stylelib/_classic_test.mplstyle: \n",
      "The animation.avconv_path rcparam was deprecated in Matplotlib 3.3 and will be removed two minor releases later.\n",
      "In /home/rodrigo/anaconda3/lib/python3.7/site-packages/matplotlib/mpl-data/stylelib/_classic_test.mplstyle: \n",
      "The animation.avconv_args rcparam was deprecated in Matplotlib 3.3 and will be removed two minor releases later.\n"
     ]
    }
   ],
   "source": [
    "import pandas as pd\n",
    "import seaborn as sns"
   ]
  },
  {
   "cell_type": "markdown",
   "id": "80d65c0d",
   "metadata": {},
   "source": [
    "### Reformateo de `DataFrame`'s"
   ]
  },
  {
   "cell_type": "markdown",
   "id": "330d4cc5",
   "metadata": {},
   "source": [
    "## Expresiones regulares"
   ]
  },
  {
   "cell_type": "code",
   "execution_count": 7,
   "id": "7646e533",
   "metadata": {},
   "outputs": [],
   "source": [
    "import re"
   ]
  },
  {
   "cell_type": "markdown",
   "id": "7dde5ac9",
   "metadata": {},
   "source": [
    "`\\d`: match cuando el string contiene digitos (equivalente a [0-9]) <br>\n",
    "`\\D`: match cuando el string NO contiene digitos <br>\n",
    "`\\s`: match cuando el string contiene un espacio en blanco <br>\n",
    "`\\S`: match cuando el string NO contiene un espacio en blanco <br>\n",
    "`\\w`: match cuando el string contiene caracteres de alfanuméricos o \"\\_\" <br>\n",
    "`\\W`: match cuando el string NO contiene caracteres de alfanuméricos o \"\\_\" <br>"
   ]
  },
  {
   "cell_type": "code",
   "execution_count": 14,
   "id": "dac8dd49",
   "metadata": {},
   "outputs": [
    {
     "ename": "FileNotFoundError",
     "evalue": "[Errno 2] No such file or directory: 'martin_fierro.txt'",
     "output_type": "error",
     "traceback": [
      "\u001b[0;31m---------------------------------------------------------------------------\u001b[0m",
      "\u001b[0;31mFileNotFoundError\u001b[0m                         Traceback (most recent call last)",
      "\u001b[0;32m<ipython-input-14-ada7484afcaf>\u001b[0m in \u001b[0;36m<module>\u001b[0;34m\u001b[0m\n\u001b[0;32m----> 1\u001b[0;31m \u001b[0;32mwith\u001b[0m \u001b[0mopen\u001b[0m\u001b[0;34m(\u001b[0m\u001b[0;34m\"martin_fierro.txt\"\u001b[0m\u001b[0;34m)\u001b[0m \u001b[0;32mas\u001b[0m \u001b[0marchivo\u001b[0m\u001b[0;34m:\u001b[0m\u001b[0;34m\u001b[0m\u001b[0;34m\u001b[0m\u001b[0m\n\u001b[0m\u001b[1;32m      2\u001b[0m     \u001b[0mmartin_fierro\u001b[0m \u001b[0;34m=\u001b[0m \u001b[0marchivo\u001b[0m\u001b[0;34m.\u001b[0m\u001b[0mread\u001b[0m\u001b[0;34m(\u001b[0m\u001b[0;34m)\u001b[0m\u001b[0;34m\u001b[0m\u001b[0;34m\u001b[0m\u001b[0m\n",
      "\u001b[0;31mFileNotFoundError\u001b[0m: [Errno 2] No such file or directory: 'martin_fierro.txt'"
     ]
    }
   ],
   "source": [
    "with open(\"martin_fierro.txt\") as archivo:\n",
    "    martin_fierro = archivo.read()"
   ]
  },
  {
   "cell_type": "code",
   "execution_count": null,
   "id": "096d1602",
   "metadata": {},
   "outputs": [],
   "source": []
  },
  {
   "cell_type": "code",
   "execution_count": null,
   "id": "f6789506",
   "metadata": {},
   "outputs": [],
   "source": []
  },
  {
   "cell_type": "markdown",
   "id": "5e211b31",
   "metadata": {},
   "source": [
    "## _Fuzzy matching_"
   ]
  },
  {
   "cell_type": "markdown",
   "id": "8b4046c7",
   "metadata": {},
   "source": [
    "Instalemos el módulo `fuzzywuzzy` con `pip install fuzzywuzzy`."
   ]
  },
  {
   "cell_type": "markdown",
   "id": "ff52d634",
   "metadata": {},
   "source": [
    "### Distancia de Levenshtein"
   ]
  },
  {
   "cell_type": "markdown",
   "id": "2e51e8f6",
   "metadata": {},
   "source": [
    "Es la cantidad mínima de caracteres que deben editarse en un string para equipararlo a otro. Una edición puede ser una inserción, una eliminación o una substitución."
   ]
  },
  {
   "cell_type": "markdown",
   "id": "532b544d",
   "metadata": {},
   "source": [
    "`fuzzywuzzy` es una librería de Python que tiene funciones para medir distancias entre `string`'s. Estima la distancia y devuelve un indicador de similitud entre 0 (menor similitud) y 100 (máxima similitud)."
   ]
  },
  {
   "cell_type": "markdown",
   "id": "37a0d830",
   "metadata": {},
   "source": [
    "Documentación (es algo básica): https://github.com/seatgeek/fuzzywuzzy"
   ]
  },
  {
   "cell_type": "code",
   "execution_count": null,
   "id": "a089842e",
   "metadata": {},
   "outputs": [],
   "source": [
    "# Simple Ratio\n",
    "fuzz.ratio(\"Energía Termica\", \"Energía Térmica\")"
   ]
  },
  {
   "cell_type": "code",
   "execution_count": null,
   "id": "e396362d",
   "metadata": {},
   "outputs": [],
   "source": [
    "# Partial Ratio\n",
    "fuzz.partial_ratio(\"Energía Termica\", \"La Energía Térmica es la más común\")"
   ]
  },
  {
   "cell_type": "code",
   "execution_count": null,
   "id": "16f2310b",
   "metadata": {},
   "outputs": [],
   "source": [
    "# Token set ratio\n",
    "fuzz.token_sort_ratio(\"La Energía Térmica es la más común\", \"La más común es Energía Térmica la\")"
   ]
  },
  {
   "cell_type": "code",
   "execution_count": null,
   "id": "2eba0d55",
   "metadata": {},
   "outputs": [],
   "source": [
    "# Token set ratio\n",
    "fuzz.token_set_ratio(\"La Energía Térmica es la más común\", \"La más más común es Energía Térmica la la \")"
   ]
  },
  {
   "cell_type": "code",
   "execution_count": null,
   "id": "d796e612",
   "metadata": {},
   "outputs": [],
   "source": [
    "from fuzzywuzzy import process"
   ]
  },
  {
   "cell_type": "code",
   "execution_count": null,
   "id": "e3971904",
   "metadata": {},
   "outputs": [],
   "source": [
    "?process.extractOne"
   ]
  },
  {
   "cell_type": "code",
   "execution_count": null,
   "id": "f8bdebc5",
   "metadata": {},
   "outputs": [],
   "source": [
    "fuentes_validas = ['Térmica','Renovable','Hidráulica','Nuclear']"
   ]
  },
  {
   "cell_type": "code",
   "execution_count": null,
   "id": "4bd6da43",
   "metadata": {},
   "outputs": [],
   "source": [
    "process.extractOne(\"Temica\", fuentes_validas)"
   ]
  },
  {
   "cell_type": "code",
   "execution_count": null,
   "id": "a2a77e0e",
   "metadata": {},
   "outputs": [],
   "source": [
    "process.extractOne(\"Temica\", fuentes_validas)[0]"
   ]
  },
  {
   "cell_type": "code",
   "execution_count": null,
   "id": "11961b57",
   "metadata": {},
   "outputs": [],
   "source": [
    "df['fuente_generacion'].value_counts()"
   ]
  },
  {
   "cell_type": "code",
   "execution_count": null,
   "id": "1fd30028",
   "metadata": {},
   "outputs": [],
   "source": [
    "def limpiar_fuente(fuente_generacion):\n",
    "    '''\n",
    "    Función toma como imput un string que identifica (mal escrito)\n",
    "    una fuente de generación eléctrica y la reemplaza por la fuente\n",
    "    válida más parecida.\n",
    "    '''\n",
    "    \n",
    "    # indicar fuentes válida\n",
    "    fuentes_validas = ['Térmica','Renovable','Hidráulica','Nuclear']\n",
    "    \n",
    "    fuente_procesada = process.extractOne(fuente_generacion, fuentes_validas)[0]\n",
    "    \n",
    "    return fuente_procesada"
   ]
  },
  {
   "cell_type": "code",
   "execution_count": null,
   "id": "57d46ef1",
   "metadata": {},
   "outputs": [],
   "source": [
    "df['fuente_generacion'] = df['fuente_generacion'].apply(limpiar_fuente)"
   ]
  }
 ],
 "metadata": {
  "kernelspec": {
   "display_name": "Python 3",
   "language": "python",
   "name": "python3"
  },
  "language_info": {
   "codemirror_mode": {
    "name": "ipython",
    "version": 3
   },
   "file_extension": ".py",
   "mimetype": "text/x-python",
   "name": "python",
   "nbconvert_exporter": "python",
   "pygments_lexer": "ipython3",
   "version": "3.7.4"
  }
 },
 "nbformat": 4,
 "nbformat_minor": 5
}
